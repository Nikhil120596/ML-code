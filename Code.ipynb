{
  "cells": [
    {
      "cell_type": "code",
      "execution_count": 1,
      "id": "e992cbc8",
      "metadata": {
        "id": "e992cbc8"
      },
      "outputs": [],
      "source": [
        "import pandas as pd\n",
        "import numpy as np\n",
        "import matplotlib.pyplot as plt\n",
        "import seaborn as sns"
      ]
    },
    {
      "cell_type": "code",
      "execution_count": 2,
      "id": "94362f6c",
      "metadata": {
        "colab": {
          "base_uri": "https://localhost:8080/",
          "height": 461
        },
        "id": "94362f6c",
        "outputId": "607dd4be-b88f-4962-a67f-0820ca6f7857"
      },
      "outputs": [
        {
          "output_type": "execute_result",
          "data": {
            "text/plain": [
              "      id                                              title  Rating maincateg  \\\n",
              "0  16695  Fashionable & Comfortable Bellies For Women  (...     3.9     Women   \n",
              "1   5120  Combo Pack of 4 Casual Shoes Sneakers For Men ...     3.8       Men   \n",
              "2  18391         Cilia Mode Leo Sneakers For Women  (White)     4.4     Women   \n",
              "3    495                            Men Black Sports Sandal     4.2       Men   \n",
              "4  16408                            Men Green Sports Sandal     3.9       Men   \n",
              "\n",
              "   platform  price1  actprice1 Offer %  norating1  noreviews1  star_5f  \\\n",
              "0  Flipkart     698        999  30.13%       38.0         7.0     17.0   \n",
              "1  Flipkart     999       1999  50.03%      531.0        69.0    264.0   \n",
              "2  Flipkart    2749       4999  45.01%       17.0         4.0     11.0   \n",
              "3  Flipkart     518        724  15.85%    46413.0      6229.0   1045.0   \n",
              "4  Flipkart    1379       2299  40.02%       77.0         3.0     35.0   \n",
              "\n",
              "   star_4f  star_3f  star_2f  star_1f  fulfilled1  \n",
              "0      9.0      6.0        3        3           0  \n",
              "1     92.0     73.0       29       73           1  \n",
              "2      3.0      2.0        1        0           1  \n",
              "3  12416.0   5352.0      701     4595           1  \n",
              "4     21.0      7.0        7        7           1  "
            ],
            "text/html": [
              "\n",
              "  <div id=\"df-b9b39d90-5949-4f62-9485-5ffc3ddf8335\">\n",
              "    <div class=\"colab-df-container\">\n",
              "      <div>\n",
              "<style scoped>\n",
              "    .dataframe tbody tr th:only-of-type {\n",
              "        vertical-align: middle;\n",
              "    }\n",
              "\n",
              "    .dataframe tbody tr th {\n",
              "        vertical-align: top;\n",
              "    }\n",
              "\n",
              "    .dataframe thead th {\n",
              "        text-align: right;\n",
              "    }\n",
              "</style>\n",
              "<table border=\"1\" class=\"dataframe\">\n",
              "  <thead>\n",
              "    <tr style=\"text-align: right;\">\n",
              "      <th></th>\n",
              "      <th>id</th>\n",
              "      <th>title</th>\n",
              "      <th>Rating</th>\n",
              "      <th>maincateg</th>\n",
              "      <th>platform</th>\n",
              "      <th>price1</th>\n",
              "      <th>actprice1</th>\n",
              "      <th>Offer %</th>\n",
              "      <th>norating1</th>\n",
              "      <th>noreviews1</th>\n",
              "      <th>star_5f</th>\n",
              "      <th>star_4f</th>\n",
              "      <th>star_3f</th>\n",
              "      <th>star_2f</th>\n",
              "      <th>star_1f</th>\n",
              "      <th>fulfilled1</th>\n",
              "    </tr>\n",
              "  </thead>\n",
              "  <tbody>\n",
              "    <tr>\n",
              "      <th>0</th>\n",
              "      <td>16695</td>\n",
              "      <td>Fashionable &amp; Comfortable Bellies For Women  (...</td>\n",
              "      <td>3.9</td>\n",
              "      <td>Women</td>\n",
              "      <td>Flipkart</td>\n",
              "      <td>698</td>\n",
              "      <td>999</td>\n",
              "      <td>30.13%</td>\n",
              "      <td>38.0</td>\n",
              "      <td>7.0</td>\n",
              "      <td>17.0</td>\n",
              "      <td>9.0</td>\n",
              "      <td>6.0</td>\n",
              "      <td>3</td>\n",
              "      <td>3</td>\n",
              "      <td>0</td>\n",
              "    </tr>\n",
              "    <tr>\n",
              "      <th>1</th>\n",
              "      <td>5120</td>\n",
              "      <td>Combo Pack of 4 Casual Shoes Sneakers For Men ...</td>\n",
              "      <td>3.8</td>\n",
              "      <td>Men</td>\n",
              "      <td>Flipkart</td>\n",
              "      <td>999</td>\n",
              "      <td>1999</td>\n",
              "      <td>50.03%</td>\n",
              "      <td>531.0</td>\n",
              "      <td>69.0</td>\n",
              "      <td>264.0</td>\n",
              "      <td>92.0</td>\n",
              "      <td>73.0</td>\n",
              "      <td>29</td>\n",
              "      <td>73</td>\n",
              "      <td>1</td>\n",
              "    </tr>\n",
              "    <tr>\n",
              "      <th>2</th>\n",
              "      <td>18391</td>\n",
              "      <td>Cilia Mode Leo Sneakers For Women  (White)</td>\n",
              "      <td>4.4</td>\n",
              "      <td>Women</td>\n",
              "      <td>Flipkart</td>\n",
              "      <td>2749</td>\n",
              "      <td>4999</td>\n",
              "      <td>45.01%</td>\n",
              "      <td>17.0</td>\n",
              "      <td>4.0</td>\n",
              "      <td>11.0</td>\n",
              "      <td>3.0</td>\n",
              "      <td>2.0</td>\n",
              "      <td>1</td>\n",
              "      <td>0</td>\n",
              "      <td>1</td>\n",
              "    </tr>\n",
              "    <tr>\n",
              "      <th>3</th>\n",
              "      <td>495</td>\n",
              "      <td>Men Black Sports Sandal</td>\n",
              "      <td>4.2</td>\n",
              "      <td>Men</td>\n",
              "      <td>Flipkart</td>\n",
              "      <td>518</td>\n",
              "      <td>724</td>\n",
              "      <td>15.85%</td>\n",
              "      <td>46413.0</td>\n",
              "      <td>6229.0</td>\n",
              "      <td>1045.0</td>\n",
              "      <td>12416.0</td>\n",
              "      <td>5352.0</td>\n",
              "      <td>701</td>\n",
              "      <td>4595</td>\n",
              "      <td>1</td>\n",
              "    </tr>\n",
              "    <tr>\n",
              "      <th>4</th>\n",
              "      <td>16408</td>\n",
              "      <td>Men Green Sports Sandal</td>\n",
              "      <td>3.9</td>\n",
              "      <td>Men</td>\n",
              "      <td>Flipkart</td>\n",
              "      <td>1379</td>\n",
              "      <td>2299</td>\n",
              "      <td>40.02%</td>\n",
              "      <td>77.0</td>\n",
              "      <td>3.0</td>\n",
              "      <td>35.0</td>\n",
              "      <td>21.0</td>\n",
              "      <td>7.0</td>\n",
              "      <td>7</td>\n",
              "      <td>7</td>\n",
              "      <td>1</td>\n",
              "    </tr>\n",
              "  </tbody>\n",
              "</table>\n",
              "</div>\n",
              "      <button class=\"colab-df-convert\" onclick=\"convertToInteractive('df-b9b39d90-5949-4f62-9485-5ffc3ddf8335')\"\n",
              "              title=\"Convert this dataframe to an interactive table.\"\n",
              "              style=\"display:none;\">\n",
              "        \n",
              "  <svg xmlns=\"http://www.w3.org/2000/svg\" height=\"24px\"viewBox=\"0 0 24 24\"\n",
              "       width=\"24px\">\n",
              "    <path d=\"M0 0h24v24H0V0z\" fill=\"none\"/>\n",
              "    <path d=\"M18.56 5.44l.94 2.06.94-2.06 2.06-.94-2.06-.94-.94-2.06-.94 2.06-2.06.94zm-11 1L8.5 8.5l.94-2.06 2.06-.94-2.06-.94L8.5 2.5l-.94 2.06-2.06.94zm10 10l.94 2.06.94-2.06 2.06-.94-2.06-.94-.94-2.06-.94 2.06-2.06.94z\"/><path d=\"M17.41 7.96l-1.37-1.37c-.4-.4-.92-.59-1.43-.59-.52 0-1.04.2-1.43.59L10.3 9.45l-7.72 7.72c-.78.78-.78 2.05 0 2.83L4 21.41c.39.39.9.59 1.41.59.51 0 1.02-.2 1.41-.59l7.78-7.78 2.81-2.81c.8-.78.8-2.07 0-2.86zM5.41 20L4 18.59l7.72-7.72 1.47 1.35L5.41 20z\"/>\n",
              "  </svg>\n",
              "      </button>\n",
              "      \n",
              "  <style>\n",
              "    .colab-df-container {\n",
              "      display:flex;\n",
              "      flex-wrap:wrap;\n",
              "      gap: 12px;\n",
              "    }\n",
              "\n",
              "    .colab-df-convert {\n",
              "      background-color: #E8F0FE;\n",
              "      border: none;\n",
              "      border-radius: 50%;\n",
              "      cursor: pointer;\n",
              "      display: none;\n",
              "      fill: #1967D2;\n",
              "      height: 32px;\n",
              "      padding: 0 0 0 0;\n",
              "      width: 32px;\n",
              "    }\n",
              "\n",
              "    .colab-df-convert:hover {\n",
              "      background-color: #E2EBFA;\n",
              "      box-shadow: 0px 1px 2px rgba(60, 64, 67, 0.3), 0px 1px 3px 1px rgba(60, 64, 67, 0.15);\n",
              "      fill: #174EA6;\n",
              "    }\n",
              "\n",
              "    [theme=dark] .colab-df-convert {\n",
              "      background-color: #3B4455;\n",
              "      fill: #D2E3FC;\n",
              "    }\n",
              "\n",
              "    [theme=dark] .colab-df-convert:hover {\n",
              "      background-color: #434B5C;\n",
              "      box-shadow: 0px 1px 3px 1px rgba(0, 0, 0, 0.15);\n",
              "      filter: drop-shadow(0px 1px 2px rgba(0, 0, 0, 0.3));\n",
              "      fill: #FFFFFF;\n",
              "    }\n",
              "  </style>\n",
              "\n",
              "      <script>\n",
              "        const buttonEl =\n",
              "          document.querySelector('#df-b9b39d90-5949-4f62-9485-5ffc3ddf8335 button.colab-df-convert');\n",
              "        buttonEl.style.display =\n",
              "          google.colab.kernel.accessAllowed ? 'block' : 'none';\n",
              "\n",
              "        async function convertToInteractive(key) {\n",
              "          const element = document.querySelector('#df-b9b39d90-5949-4f62-9485-5ffc3ddf8335');\n",
              "          const dataTable =\n",
              "            await google.colab.kernel.invokeFunction('convertToInteractive',\n",
              "                                                     [key], {});\n",
              "          if (!dataTable) return;\n",
              "\n",
              "          const docLinkHtml = 'Like what you see? Visit the ' +\n",
              "            '<a target=\"_blank\" href=https://colab.research.google.com/notebooks/data_table.ipynb>data table notebook</a>'\n",
              "            + ' to learn more about interactive tables.';\n",
              "          element.innerHTML = '';\n",
              "          dataTable['output_type'] = 'display_data';\n",
              "          await google.colab.output.renderOutput(dataTable, element);\n",
              "          const docLink = document.createElement('div');\n",
              "          docLink.innerHTML = docLinkHtml;\n",
              "          element.appendChild(docLink);\n",
              "        }\n",
              "      </script>\n",
              "    </div>\n",
              "  </div>\n",
              "  "
            ]
          },
          "metadata": {},
          "execution_count": 2
        }
      ],
      "source": [
        "data = pd.read_csv('train.csv')\n",
        "data.head()"
      ]
    },
    {
      "cell_type": "code",
      "execution_count": 3,
      "id": "4fa45aac",
      "metadata": {
        "id": "4fa45aac",
        "colab": {
          "base_uri": "https://localhost:8080/"
        },
        "outputId": "7398703d-daaf-4c44-c463-1cfc2daafe79"
      },
      "outputs": [
        {
          "output_type": "execute_result",
          "data": {
            "text/plain": [
              "id              0\n",
              "title           0\n",
              "Rating          0\n",
              "maincateg     526\n",
              "platform        0\n",
              "price1          0\n",
              "actprice1       0\n",
              "Offer %         0\n",
              "norating1     678\n",
              "noreviews1    578\n",
              "star_5f       588\n",
              "star_4f       539\n",
              "star_3f       231\n",
              "star_2f         0\n",
              "star_1f         0\n",
              "fulfilled1      0\n",
              "dtype: int64"
            ]
          },
          "metadata": {},
          "execution_count": 3
        }
      ],
      "source": [
        "data.isnull().sum()"
      ]
    },
    {
      "cell_type": "code",
      "execution_count": 3,
      "id": "7a2bf376",
      "metadata": {
        "id": "7a2bf376"
      },
      "outputs": [],
      "source": []
    },
    {
      "cell_type": "code",
      "execution_count": 4,
      "id": "7abe2417",
      "metadata": {
        "id": "7abe2417"
      },
      "outputs": [],
      "source": [
        "dummis1 = pd.get_dummies(data['maincateg'],prefix='maincateg')\n",
        "\n",
        "\n",
        "\n",
        "data  = pd.concat([data,dummis1.iloc[:,1:]],axis=1)\n",
        "\n",
        "dummis2 = pd.get_dummies(data['platform'],prefix='platform')\n",
        "data  = pd.concat([data,dummis2.iloc[:,1:]],axis=1)\n",
        "\n",
        "data.drop('platform',axis=1,inplace=True)\n",
        "data.drop('maincateg',axis=1,inplace=True)\n",
        "#df_train.dropna(inplace=True)"
      ]
    },
    {
      "cell_type": "code",
      "execution_count": 5,
      "id": "020d4491",
      "metadata": {
        "colab": {
          "base_uri": "https://localhost:8080/"
        },
        "id": "020d4491",
        "outputId": "36749e65-50f9-4852-9c16-c862e12f5930"
      },
      "outputs": [
        {
          "output_type": "execute_result",
          "data": {
            "text/plain": [
              "id                     0\n",
              "title                  0\n",
              "Rating                 0\n",
              "price1                 0\n",
              "actprice1              0\n",
              "Offer %                0\n",
              "norating1            678\n",
              "noreviews1           578\n",
              "star_5f              588\n",
              "star_4f              539\n",
              "star_3f              231\n",
              "star_2f                0\n",
              "star_1f                0\n",
              "fulfilled1             0\n",
              "maincateg_Women        0\n",
              "platform_Flipkart      0\n",
              "dtype: int64"
            ]
          },
          "metadata": {},
          "execution_count": 5
        }
      ],
      "source": [
        "data.isna().sum()"
      ]
    },
    {
      "cell_type": "code",
      "execution_count": 6,
      "id": "8127fd6d",
      "metadata": {
        "id": "8127fd6d"
      },
      "outputs": [],
      "source": [
        "data['norating1'] = data['norating1'].fillna(data['norating1'].mean())\n",
        "data['noreviews1'] = data['noreviews1'].fillna(data['noreviews1'].mean())\n",
        "data['star_5f'] = data['star_5f'].fillna(data['star_5f'].mean())\n",
        "data['star_4f'] = data['star_4f'].fillna(data['star_4f'].mean())\n",
        "data['star_3f'] = data['star_3f'].fillna(data['star_3f'].mean())\n",
        "data['star_2f'] = data['star_2f'].fillna(data['star_2f'].mean())\n",
        "data['star_1f'] = data['star_1f'].fillna(data['star_1f'].mean())"
      ]
    },
    {
      "cell_type": "code",
      "execution_count": 7,
      "id": "3d854aff",
      "metadata": {
        "colab": {
          "base_uri": "https://localhost:8080/"
        },
        "id": "3d854aff",
        "outputId": "492fa816-1ce7-461c-86af-49a197da2050"
      },
      "outputs": [
        {
          "output_type": "execute_result",
          "data": {
            "text/plain": [
              "Index(['id', 'title', 'Rating', 'price1', 'actprice1', 'Offer %', 'norating1',\n",
              "       'noreviews1', 'star_5f', 'star_4f', 'star_3f', 'star_2f', 'star_1f',\n",
              "       'fulfilled1', 'maincateg_Women', 'platform_Flipkart'],\n",
              "      dtype='object')"
            ]
          },
          "metadata": {},
          "execution_count": 7
        }
      ],
      "source": [
        "data.columns"
      ]
    },
    {
      "cell_type": "code",
      "execution_count": 8,
      "id": "c22e2938",
      "metadata": {
        "colab": {
          "base_uri": "https://localhost:8080/"
        },
        "id": "c22e2938",
        "outputId": "7014b086-8e13-448d-c90b-caad90ce9aa9"
      },
      "outputs": [
        {
          "output_type": "stream",
          "name": "stdout",
          "text": [
            "id                   0\n",
            "title                0\n",
            "Rating               0\n",
            "price1               0\n",
            "actprice1            0\n",
            "Offer %              0\n",
            "norating1            0\n",
            "noreviews1           0\n",
            "star_5f              0\n",
            "star_4f              0\n",
            "star_3f              0\n",
            "star_2f              0\n",
            "star_1f              0\n",
            "fulfilled1           0\n",
            "maincateg_Women      0\n",
            "platform_Flipkart    0\n",
            "dtype: int64\n"
          ]
        },
        {
          "output_type": "execute_result",
          "data": {
            "text/plain": [
              "(15730, 16)"
            ]
          },
          "metadata": {},
          "execution_count": 8
        }
      ],
      "source": [
        "print(data.isna().sum())\n",
        "data.shape"
      ]
    },
    {
      "cell_type": "code",
      "execution_count": 9,
      "id": "4d807af9",
      "metadata": {
        "colab": {
          "base_uri": "https://localhost:8080/"
        },
        "id": "4d807af9",
        "outputId": "ba4793f4-2da4-4076-8719-311766228080"
      },
      "outputs": [
        {
          "output_type": "stream",
          "name": "stdout",
          "text": [
            "id                   0\n",
            "title                0\n",
            "Rating               0\n",
            "price1               0\n",
            "actprice1            0\n",
            "Offer %              0\n",
            "norating1            0\n",
            "noreviews1           0\n",
            "star_5f              0\n",
            "star_4f              0\n",
            "star_3f              0\n",
            "star_2f              0\n",
            "star_1f              0\n",
            "fulfilled1           0\n",
            "maincateg_Women      0\n",
            "platform_Flipkart    0\n",
            "dtype: int64\n"
          ]
        },
        {
          "output_type": "execute_result",
          "data": {
            "text/plain": [
              "(15730, 16)"
            ]
          },
          "metadata": {},
          "execution_count": 9
        }
      ],
      "source": [
        "\n",
        "data['fulfilled1'].fillna(0,inplace = True)\n",
        "data.dtypes\n",
        "print(data.isna().sum())\n",
        "data.shape"
      ]
    },
    {
      "cell_type": "code",
      "execution_count": 10,
      "id": "4b5f4e26",
      "metadata": {
        "colab": {
          "base_uri": "https://localhost:8080/",
          "height": 296
        },
        "id": "4b5f4e26",
        "outputId": "81c3751a-762e-461f-bfb9-42527b8c7c44"
      },
      "outputs": [
        {
          "output_type": "execute_result",
          "data": {
            "text/plain": [
              "<matplotlib.axes._subplots.AxesSubplot at 0x7f223cd1d4d0>"
            ]
          },
          "metadata": {},
          "execution_count": 10
        },
        {
          "output_type": "display_data",
          "data": {
            "text/plain": [
              "<Figure size 432x288 with 1 Axes>"
            ],
            "image/png": "[encoded data removed]"
          },
          "metadata": {
            "needs_background": "light"
          }
        }
      ],
      "source": [
        "sns.barplot(x = data[\"fulfilled1\"], y = data[\"maincateg_Women\"])"
      ]
    },
    {
      "cell_type": "code",
      "execution_count": 11,
      "id": "af3ba001",
      "metadata": {
        "id": "af3ba001"
      },
      "outputs": [],
      "source": [
        "X_train = data[['Rating', 'actprice1', 'norating1', 'noreviews1', 'star_5f', 'star_4f','star_3f', 'star_2f', 'star_1f', 'fulfilled1',\n",
        "       'maincateg_Women', 'platform_Flipkart']]\n",
        "y_train = data['price1']"
      ]
    },
    {
      "cell_type": "code",
      "execution_count": 12,
      "id": "71abf4b3",
      "metadata": {
        "id": "71abf4b3"
      },
      "outputs": [],
      "source": [
        "from sklearn.preprocessing import StandardScaler\n",
        "sc = StandardScaler()\n",
        "\n",
        "X_scaled = sc.fit_transform(X_train)"
      ]
    },
    {
      "cell_type": "code",
      "execution_count": 13,
      "id": "784dd39a",
      "metadata": {
        "id": "784dd39a"
      },
      "outputs": [],
      "source": [
        "from sklearn.linear_model import LinearRegression\n",
        "lm = LinearRegression()\n"
      ]
    },
    {
      "cell_type": "code",
      "execution_count": 14,
      "id": "9833190e",
      "metadata": {
        "id": "9833190e",
        "colab": {
          "base_uri": "https://localhost:8080/"
        },
        "outputId": "3e987dcf-0b2d-4bb9-dad1-a41d6cbf3173"
      },
      "outputs": [
        {
          "output_type": "execute_result",
          "data": {
            "text/plain": [
              "LinearRegression()"
            ]
          },
          "metadata": {},
          "execution_count": 14
        }
      ],
      "source": [
        "lm.fit(X_scaled,y_train)"
      ]
    },
    {
      "cell_type": "code",
      "execution_count": 15,
      "id": "ed85fc8d",
      "metadata": {
        "colab": {
          "base_uri": "https://localhost:8080/"
        },
        "id": "ed85fc8d",
        "outputId": "6b7082f6-ca55-4473-a5a1-2b82082db00e"
      },
      "outputs": [
        {
          "output_type": "execute_result",
          "data": {
            "text/plain": [
              "0.802638854174178"
            ]
          },
          "metadata": {},
          "execution_count": 15
        }
      ],
      "source": [
        "lm.score(X_scaled,y_train)"
      ]
    },
    {
      "cell_type": "code",
      "execution_count": 15,
      "id": "36e27063",
      "metadata": {
        "id": "36e27063"
      },
      "outputs": [],
      "source": []
    },
    {
      "cell_type": "code",
      "execution_count": 15,
      "id": "341904fb",
      "metadata": {
        "id": "341904fb"
      },
      "outputs": [],
      "source": [
        "\n"
      ]
    },
    {
      "cell_type": "code",
      "execution_count": 16,
      "id": "3306aec4",
      "metadata": {
        "id": "3306aec4"
      },
      "outputs": [],
      "source": [
        "df_test = pd.read_csv('./test.csv')"
      ]
    },
    {
      "cell_type": "code",
      "execution_count": 17,
      "id": "ad9b6fde",
      "metadata": {
        "id": "ad9b6fde"
      },
      "outputs": [],
      "source": [
        "dummis3 = pd.get_dummies(df_test['maincateg'],prefix='maincateg')\n",
        "\n",
        "\n",
        "\n",
        "df_test  = pd.concat([df_test,dummis3.iloc[:,1:]],axis=1)\n",
        "\n",
        "dummis4 = pd.get_dummies(df_test['platform'],prefix='platform')\n",
        "df_test  = pd.concat([df_test,dummis4.iloc[:,1:]],axis=1)\n",
        "\n",
        "df_test.drop('platform',axis=1,inplace=True)\n",
        "df_test.drop('maincateg',axis=1,inplace=True)\n",
        "#df_test.dropna(inplace=True)"
      ]
    },
    {
      "cell_type": "code",
      "execution_count": 18,
      "id": "158516ed",
      "metadata": {
        "id": "158516ed"
      },
      "outputs": [],
      "source": [
        "df_test['norating1'] = df_test['norating1'].fillna(df_test['norating1'].mean())\n",
        "df_test['noreviews1'] = df_test['noreviews1'].fillna(df_test['noreviews1'].mean())\n",
        "df_test['star_5f'] = df_test['star_5f'].fillna(df_test['star_5f'].mean())\n",
        "df_test['star_4f'] = df_test['star_4f'].fillna(df_test['star_4f'].mean())\n",
        "df_test['star_3f'] = df_test['star_3f'].fillna(df_test['star_3f'].mean())\n",
        "df_test['star_2f'] = df_test['star_2f'].fillna(df_test['star_2f'].mean())\n",
        "df_test['star_1f'] = df_test['star_1f'].fillna(df_test['star_1f'].mean())\n",
        "df_test['Rating'] = df_test['Rating'].fillna(df_test['Rating'].mean())"
      ]
    },
    {
      "cell_type": "code",
      "execution_count": 19,
      "id": "f5f73c16",
      "metadata": {
        "colab": {
          "base_uri": "https://localhost:8080/"
        },
        "id": "f5f73c16",
        "outputId": "ff61aad8-fab5-4ccd-81d8-0d8817134854"
      },
      "outputs": [
        {
          "output_type": "execute_result",
          "data": {
            "text/plain": [
              "5244"
            ]
          },
          "metadata": {},
          "execution_count": 19
        }
      ],
      "source": [
        "len(df_test)"
      ]
    },
    {
      "cell_type": "code",
      "execution_count": 20,
      "id": "51c4660e",
      "metadata": {
        "id": "51c4660e"
      },
      "outputs": [],
      "source": [
        "df_id = df_test['id']"
      ]
    },
    {
      "cell_type": "code",
      "execution_count": 21,
      "id": "a3483e7c",
      "metadata": {
        "id": "a3483e7c"
      },
      "outputs": [],
      "source": [
        "df_test.drop('id',axis=1,inplace=True)"
      ]
    },
    {
      "cell_type": "code",
      "execution_count": 22,
      "id": "83c41a3f",
      "metadata": {
        "colab": {
          "base_uri": "https://localhost:8080/"
        },
        "id": "83c41a3f",
        "outputId": "ee3f7192-1a9c-435d-8a6f-016ee0adef4c"
      },
      "outputs": [
        {
          "output_type": "execute_result",
          "data": {
            "text/plain": [
              "title                0\n",
              "Rating               0\n",
              "actprice1            0\n",
              "norating1            0\n",
              "noreviews1           0\n",
              "star_5f              0\n",
              "star_4f              0\n",
              "star_3f              0\n",
              "star_2f              0\n",
              "star_1f              0\n",
              "fulfilled1           0\n",
              "maincateg_Women      0\n",
              "platform_Flipkart    0\n",
              "dtype: int64"
            ]
          },
          "metadata": {},
          "execution_count": 22
        }
      ],
      "source": [
        "df_test.isnull().sum()"
      ]
    },
    {
      "cell_type": "code",
      "execution_count": 23,
      "id": "6cfc968d",
      "metadata": {
        "colab": {
          "base_uri": "https://localhost:8080/"
        },
        "id": "6cfc968d",
        "outputId": "016c95d4-7f5c-487c-9002-806f403bd642"
      },
      "outputs": [
        {
          "output_type": "execute_result",
          "data": {
            "text/plain": [
              "Index(['id', 'title', 'Rating', 'price1', 'actprice1', 'Offer %', 'norating1',\n",
              "       'noreviews1', 'star_5f', 'star_4f', 'star_3f', 'star_2f', 'star_1f',\n",
              "       'fulfilled1', 'maincateg_Women', 'platform_Flipkart'],\n",
              "      dtype='object')"
            ]
          },
          "metadata": {},
          "execution_count": 23
        }
      ],
      "source": [
        "data.columns"
      ]
    },
    {
      "cell_type": "code",
      "execution_count": 24,
      "id": "40768f73",
      "metadata": {
        "id": "40768f73"
      },
      "outputs": [],
      "source": [
        "X_test = df_test[['Rating', 'actprice1', 'norating1', 'noreviews1', 'star_5f', 'star_4f',\n",
        "       'star_3f', 'star_2f', 'star_1f', 'fulfilled1',\n",
        "       'maincateg_Women', 'platform_Flipkart']]"
      ]
    },
    {
      "cell_type": "code",
      "execution_count": 25,
      "id": "21c720db",
      "metadata": {
        "id": "21c720db"
      },
      "outputs": [],
      "source": [
        "x_test_scale = sc.fit_transform(X_test)"
      ]
    },
    {
      "cell_type": "code",
      "execution_count": 26,
      "id": "99d12473",
      "metadata": {
        "id": "99d12473"
      },
      "outputs": [],
      "source": [
        "pre =lm.predict(x_test_scale)"
      ]
    },
    {
      "cell_type": "code",
      "execution_count": 27,
      "id": "82ce7301",
      "metadata": {
        "colab": {
          "base_uri": "https://localhost:8080/"
        },
        "id": "82ce7301",
        "outputId": "3315cad5-8dfd-40fb-a0ba-eca1afe473ca"
      },
      "outputs": [
        {
          "output_type": "execute_result",
          "data": {
            "text/plain": [
              "(5244, 12)"
            ]
          },
          "metadata": {},
          "execution_count": 27
        }
      ],
      "source": [
        "x_test_scale.shape"
      ]
    },
    {
      "cell_type": "code",
      "execution_count": 28,
      "id": "3aba97d3",
      "metadata": {
        "colab": {
          "base_uri": "https://localhost:8080/"
        },
        "id": "3aba97d3",
        "outputId": "8025e831-d119-4a62-e665-5b9ba516be85"
      },
      "outputs": [
        {
          "output_type": "execute_result",
          "data": {
            "text/plain": [
              "7132.329580808085"
            ]
          },
          "metadata": {},
          "execution_count": 28
        }
      ],
      "source": [
        "pre.max()"
      ]
    },
    {
      "cell_type": "code",
      "execution_count": 29,
      "id": "3182666b",
      "metadata": {
        "id": "3182666b"
      },
      "outputs": [],
      "source": [
        "pre_id = pd.DataFrame(np.round(pre,decimals=3),columns=['price1'])"
      ]
    },
    {
      "cell_type": "code",
      "execution_count": 30,
      "id": "340f934a",
      "metadata": {
        "colab": {
          "base_uri": "https://localhost:8080/",
          "height": 424
        },
        "id": "340f934a",
        "outputId": "9f4b2388-5586-4b66-e01e-e02126fcb1c2"
      },
      "outputs": [
        {
          "output_type": "execute_result",
          "data": {
            "text/plain": [
              "        price1\n",
              "0      465.565\n",
              "1      300.875\n",
              "2      519.981\n",
              "3     1405.264\n",
              "4      466.174\n",
              "...        ...\n",
              "5239   419.996\n",
              "5240   903.006\n",
              "5241   438.408\n",
              "5242   227.238\n",
              "5243   680.431\n",
              "\n",
              "[5244 rows x 1 columns]"
            ],
            "text/html": [
              "\n",
              "  <div id=\"df-93d5847f-f7ec-40d2-803b-49aaa7854f55\">\n",
              "    <div class=\"colab-df-container\">\n",
              "      <div>\n",
              "<style scoped>\n",
              "    .dataframe tbody tr th:only-of-type {\n",
              "        vertical-align: middle;\n",
              "    }\n",
              "\n",
              "    .dataframe tbody tr th {\n",
              "        vertical-align: top;\n",
              "    }\n",
              "\n",
              "    .dataframe thead th {\n",
              "        text-align: right;\n",
              "    }\n",
              "</style>\n",
              "<table border=\"1\" class=\"dataframe\">\n",
              "  <thead>\n",
              "    <tr style=\"text-align: right;\">\n",
              "      <th></th>\n",
              "      <th>price1</th>\n",
              "    </tr>\n",
              "  </thead>\n",
              "  <tbody>\n",
              "    <tr>\n",
              "      <th>0</th>\n",
              "      <td>465.565</td>\n",
              "    </tr>\n",
              "    <tr>\n",
              "      <th>1</th>\n",
              "      <td>300.875</td>\n",
              "    </tr>\n",
              "    <tr>\n",
              "      <th>2</th>\n",
              "      <td>519.981</td>\n",
              "    </tr>\n",
              "    <tr>\n",
              "      <th>3</th>\n",
              "      <td>1405.264</td>\n",
              "    </tr>\n",
              "    <tr>\n",
              "      <th>4</th>\n",
              "      <td>466.174</td>\n",
              "    </tr>\n",
              "    <tr>\n",
              "      <th>...</th>\n",
              "      <td>...</td>\n",
              "    </tr>\n",
              "    <tr>\n",
              "      <th>5239</th>\n",
              "      <td>419.996</td>\n",
              "    </tr>\n",
              "    <tr>\n",
              "      <th>5240</th>\n",
              "      <td>903.006</td>\n",
              "    </tr>\n",
              "    <tr>\n",
              "      <th>5241</th>\n",
              "      <td>438.408</td>\n",
              "    </tr>\n",
              "    <tr>\n",
              "      <th>5242</th>\n",
              "      <td>227.238</td>\n",
              "    </tr>\n",
              "    <tr>\n",
              "      <th>5243</th>\n",
              "      <td>680.431</td>\n",
              "    </tr>\n",
              "  </tbody>\n",
              "</table>\n",
              "<p>5244 rows × 1 columns</p>\n",
              "</div>\n",
              "      <button class=\"colab-df-convert\" onclick=\"convertToInteractive('df-93d5847f-f7ec-40d2-803b-49aaa7854f55')\"\n",
              "              title=\"Convert this dataframe to an interactive table.\"\n",
              "              style=\"display:none;\">\n",
              "        \n",
              "  <svg xmlns=\"http://www.w3.org/2000/svg\" height=\"24px\"viewBox=\"0 0 24 24\"\n",
              "       width=\"24px\">\n",
              "    <path d=\"M0 0h24v24H0V0z\" fill=\"none\"/>\n",
              "    <path d=\"M18.56 5.44l.94 2.06.94-2.06 2.06-.94-2.06-.94-.94-2.06-.94 2.06-2.06.94zm-11 1L8.5 8.5l.94-2.06 2.06-.94-2.06-.94L8.5 2.5l-.94 2.06-2.06.94zm10 10l.94 2.06.94-2.06 2.06-.94-2.06-.94-.94-2.06-.94 2.06-2.06.94z\"/><path d=\"M17.41 7.96l-1.37-1.37c-.4-.4-.92-.59-1.43-.59-.52 0-1.04.2-1.43.59L10.3 9.45l-7.72 7.72c-.78.78-.78 2.05 0 2.83L4 21.41c.39.39.9.59 1.41.59.51 0 1.02-.2 1.41-.59l7.78-7.78 2.81-2.81c.8-.78.8-2.07 0-2.86zM5.41 20L4 18.59l7.72-7.72 1.47 1.35L5.41 20z\"/>\n",
              "  </svg>\n",
              "      </button>\n",
              "      \n",
              "  <style>\n",
              "    .colab-df-container {\n",
              "      display:flex;\n",
              "      flex-wrap:wrap;\n",
              "      gap: 12px;\n",
              "    }\n",
              "\n",
              "    .colab-df-convert {\n",
              "      background-color: #E8F0FE;\n",
              "      border: none;\n",
              "      border-radius: 50%;\n",
              "      cursor: pointer;\n",
              "      display: none;\n",
              "      fill: #1967D2;\n",
              "      height: 32px;\n",
              "      padding: 0 0 0 0;\n",
              "      width: 32px;\n",
              "    }\n",
              "\n",
              "    .colab-df-convert:hover {\n",
              "      background-color: #E2EBFA;\n",
              "      box-shadow: 0px 1px 2px rgba(60, 64, 67, 0.3), 0px 1px 3px 1px rgba(60, 64, 67, 0.15);\n",
              "      fill: #174EA6;\n",
              "    }\n",
              "\n",
              "    [theme=dark] .colab-df-convert {\n",
              "      background-color: #3B4455;\n",
              "      fill: #D2E3FC;\n",
              "    }\n",
              "\n",
              "    [theme=dark] .colab-df-convert:hover {\n",
              "      background-color: #434B5C;\n",
              "      box-shadow: 0px 1px 3px 1px rgba(0, 0, 0, 0.15);\n",
              "      filter: drop-shadow(0px 1px 2px rgba(0, 0, 0, 0.3));\n",
              "      fill: #FFFFFF;\n",
              "    }\n",
              "  </style>\n",
              "\n",
              "      <script>\n",
              "        const buttonEl =\n",
              "          document.querySelector('#df-93d5847f-f7ec-40d2-803b-49aaa7854f55 button.colab-df-convert');\n",
              "        buttonEl.style.display =\n",
              "          google.colab.kernel.accessAllowed ? 'block' : 'none';\n",
              "\n",
              "        async function convertToInteractive(key) {\n",
              "          const element = document.querySelector('#df-93d5847f-f7ec-40d2-803b-49aaa7854f55');\n",
              "          const dataTable =\n",
              "            await google.colab.kernel.invokeFunction('convertToInteractive',\n",
              "                                                     [key], {});\n",
              "          if (!dataTable) return;\n",
              "\n",
              "          const docLinkHtml = 'Like what you see? Visit the ' +\n",
              "            '<a target=\"_blank\" href=https://colab.research.google.com/notebooks/data_table.ipynb>data table notebook</a>'\n",
              "            + ' to learn more about interactive tables.';\n",
              "          element.innerHTML = '';\n",
              "          dataTable['output_type'] = 'display_data';\n",
              "          await google.colab.output.renderOutput(dataTable, element);\n",
              "          const docLink = document.createElement('div');\n",
              "          docLink.innerHTML = docLinkHtml;\n",
              "          element.appendChild(docLink);\n",
              "        }\n",
              "      </script>\n",
              "    </div>\n",
              "  </div>\n",
              "  "
            ]
          },
          "metadata": {},
          "execution_count": 30
        }
      ],
      "source": [
        "pre_id"
      ]
    },
    {
      "cell_type": "code",
      "execution_count": 31,
      "id": "b5927b98",
      "metadata": {
        "id": "b5927b98"
      },
      "outputs": [],
      "source": [
        "pre_id['id'] = df_id[::]"
      ]
    },
    {
      "cell_type": "code",
      "execution_count": 32,
      "id": "bf10f007",
      "metadata": {
        "colab": {
          "base_uri": "https://localhost:8080/",
          "height": 424
        },
        "id": "bf10f007",
        "outputId": "c8013961-917c-4b4d-e60e-43a6816b74b4"
      },
      "outputs": [
        {
          "output_type": "execute_result",
          "data": {
            "text/plain": [
              "        price1     id\n",
              "0      465.565   2242\n",
              "1      300.875  20532\n",
              "2      519.981  10648\n",
              "3     1405.264  20677\n",
              "4      466.174  12593\n",
              "...        ...    ...\n",
              "5239   419.996  14033\n",
              "5240   903.006    297\n",
              "5241   438.408  18733\n",
              "5242   227.238   6162\n",
              "5243   680.431  13574\n",
              "\n",
              "[5244 rows x 2 columns]"
            ],
            "text/html": [
              "\n",
              "  <div id=\"df-e0e45140-b5a6-4062-9607-386ea2bc8209\">\n",
              "    <div class=\"colab-df-container\">\n",
              "      <div>\n",
              "<style scoped>\n",
              "    .dataframe tbody tr th:only-of-type {\n",
              "        vertical-align: middle;\n",
              "    }\n",
              "\n",
              "    .dataframe tbody tr th {\n",
              "        vertical-align: top;\n",
              "    }\n",
              "\n",
              "    .dataframe thead th {\n",
              "        text-align: right;\n",
              "    }\n",
              "</style>\n",
              "<table border=\"1\" class=\"dataframe\">\n",
              "  <thead>\n",
              "    <tr style=\"text-align: right;\">\n",
              "      <th></th>\n",
              "      <th>price1</th>\n",
              "      <th>id</th>\n",
              "    </tr>\n",
              "  </thead>\n",
              "  <tbody>\n",
              "    <tr>\n",
              "      <th>0</th>\n",
              "      <td>465.565</td>\n",
              "      <td>2242</td>\n",
              "    </tr>\n",
              "    <tr>\n",
              "      <th>1</th>\n",
              "      <td>300.875</td>\n",
              "      <td>20532</td>\n",
              "    </tr>\n",
              "    <tr>\n",
              "      <th>2</th>\n",
              "      <td>519.981</td>\n",
              "      <td>10648</td>\n",
              "    </tr>\n",
              "    <tr>\n",
              "      <th>3</th>\n",
              "      <td>1405.264</td>\n",
              "      <td>20677</td>\n",
              "    </tr>\n",
              "    <tr>\n",
              "      <th>4</th>\n",
              "      <td>466.174</td>\n",
              "      <td>12593</td>\n",
              "    </tr>\n",
              "    <tr>\n",
              "      <th>...</th>\n",
              "      <td>...</td>\n",
              "      <td>...</td>\n",
              "    </tr>\n",
              "    <tr>\n",
              "      <th>5239</th>\n",
              "      <td>419.996</td>\n",
              "      <td>14033</td>\n",
              "    </tr>\n",
              "    <tr>\n",
              "      <th>5240</th>\n",
              "      <td>903.006</td>\n",
              "      <td>297</td>\n",
              "    </tr>\n",
              "    <tr>\n",
              "      <th>5241</th>\n",
              "      <td>438.408</td>\n",
              "      <td>18733</td>\n",
              "    </tr>\n",
              "    <tr>\n",
              "      <th>5242</th>\n",
              "      <td>227.238</td>\n",
              "      <td>6162</td>\n",
              "    </tr>\n",
              "    <tr>\n",
              "      <th>5243</th>\n",
              "      <td>680.431</td>\n",
              "      <td>13574</td>\n",
              "    </tr>\n",
              "  </tbody>\n",
              "</table>\n",
              "<p>5244 rows × 2 columns</p>\n",
              "</div>\n",
              "      <button class=\"colab-df-convert\" onclick=\"convertToInteractive('df-e0e45140-b5a6-4062-9607-386ea2bc8209')\"\n",
              "              title=\"Convert this dataframe to an interactive table.\"\n",
              "              style=\"display:none;\">\n",
              "        \n",
              "  <svg xmlns=\"http://www.w3.org/2000/svg\" height=\"24px\"viewBox=\"0 0 24 24\"\n",
              "       width=\"24px\">\n",
              "    <path d=\"M0 0h24v24H0V0z\" fill=\"none\"/>\n",
              "    <path d=\"M18.56 5.44l.94 2.06.94-2.06 2.06-.94-2.06-.94-.94-2.06-.94 2.06-2.06.94zm-11 1L8.5 8.5l.94-2.06 2.06-.94-2.06-.94L8.5 2.5l-.94 2.06-2.06.94zm10 10l.94 2.06.94-2.06 2.06-.94-2.06-.94-.94-2.06-.94 2.06-2.06.94z\"/><path d=\"M17.41 7.96l-1.37-1.37c-.4-.4-.92-.59-1.43-.59-.52 0-1.04.2-1.43.59L10.3 9.45l-7.72 7.72c-.78.78-.78 2.05 0 2.83L4 21.41c.39.39.9.59 1.41.59.51 0 1.02-.2 1.41-.59l7.78-7.78 2.81-2.81c.8-.78.8-2.07 0-2.86zM5.41 20L4 18.59l7.72-7.72 1.47 1.35L5.41 20z\"/>\n",
              "  </svg>\n",
              "      </button>\n",
              "      \n",
              "  <style>\n",
              "    .colab-df-container {\n",
              "      display:flex;\n",
              "      flex-wrap:wrap;\n",
              "      gap: 12px;\n",
              "    }\n",
              "\n",
              "    .colab-df-convert {\n",
              "      background-color: #E8F0FE;\n",
              "      border: none;\n",
              "      border-radius: 50%;\n",
              "      cursor: pointer;\n",
              "      display: none;\n",
              "      fill: #1967D2;\n",
              "      height: 32px;\n",
              "      padding: 0 0 0 0;\n",
              "      width: 32px;\n",
              "    }\n",
              "\n",
              "    .colab-df-convert:hover {\n",
              "      background-color: #E2EBFA;\n",
              "      box-shadow: 0px 1px 2px rgba(60, 64, 67, 0.3), 0px 1px 3px 1px rgba(60, 64, 67, 0.15);\n",
              "      fill: #174EA6;\n",
              "    }\n",
              "\n",
              "    [theme=dark] .colab-df-convert {\n",
              "      background-color: #3B4455;\n",
              "      fill: #D2E3FC;\n",
              "    }\n",
              "\n",
              "    [theme=dark] .colab-df-convert:hover {\n",
              "      background-color: #434B5C;\n",
              "      box-shadow: 0px 1px 3px 1px rgba(0, 0, 0, 0.15);\n",
              "      filter: drop-shadow(0px 1px 2px rgba(0, 0, 0, 0.3));\n",
              "      fill: #FFFFFF;\n",
              "    }\n",
              "  </style>\n",
              "\n",
              "      <script>\n",
              "        const buttonEl =\n",
              "          document.querySelector('#df-e0e45140-b5a6-4062-9607-386ea2bc8209 button.colab-df-convert');\n",
              "        buttonEl.style.display =\n",
              "          google.colab.kernel.accessAllowed ? 'block' : 'none';\n",
              "\n",
              "        async function convertToInteractive(key) {\n",
              "          const element = document.querySelector('#df-e0e45140-b5a6-4062-9607-386ea2bc8209');\n",
              "          const dataTable =\n",
              "            await google.colab.kernel.invokeFunction('convertToInteractive',\n",
              "                                                     [key], {});\n",
              "          if (!dataTable) return;\n",
              "\n",
              "          const docLinkHtml = 'Like what you see? Visit the ' +\n",
              "            '<a target=\"_blank\" href=https://colab.research.google.com/notebooks/data_table.ipynb>data table notebook</a>'\n",
              "            + ' to learn more about interactive tables.';\n",
              "          element.innerHTML = '';\n",
              "          dataTable['output_type'] = 'display_data';\n",
              "          await google.colab.output.renderOutput(dataTable, element);\n",
              "          const docLink = document.createElement('div');\n",
              "          docLink.innerHTML = docLinkHtml;\n",
              "          element.appendChild(docLink);\n",
              "        }\n",
              "      </script>\n",
              "    </div>\n",
              "  </div>\n",
              "  "
            ]
          },
          "metadata": {},
          "execution_count": 32
        }
      ],
      "source": [
        "pre_id"
      ]
    },
    {
      "cell_type": "code",
      "execution_count": 33,
      "id": "bbdf5cbd",
      "metadata": {
        "id": "bbdf5cbd"
      },
      "outputs": [],
      "source": [
        "pre_id = pre_id[['id', 'price1']]"
      ]
    },
    {
      "cell_type": "code",
      "execution_count": 34,
      "id": "12cf2e3f",
      "metadata": {
        "colab": {
          "base_uri": "https://localhost:8080/",
          "height": 424
        },
        "id": "12cf2e3f",
        "outputId": "d6c64d79-2204-4cbe-f013-45af8dc4d725"
      },
      "outputs": [
        {
          "output_type": "execute_result",
          "data": {
            "text/plain": [
              "         id    price1\n",
              "0      2242   465.565\n",
              "1     20532   300.875\n",
              "2     10648   519.981\n",
              "3     20677  1405.264\n",
              "4     12593   466.174\n",
              "...     ...       ...\n",
              "5239  14033   419.996\n",
              "5240    297   903.006\n",
              "5241  18733   438.408\n",
              "5242   6162   227.238\n",
              "5243  13574   680.431\n",
              "\n",
              "[5244 rows x 2 columns]"
            ],
            "text/html": [
              "\n",
              "  <div id=\"df-88349e60-2e5b-4763-95d1-baace2e89de6\">\n",
              "    <div class=\"colab-df-container\">\n",
              "      <div>\n",
              "<style scoped>\n",
              "    .dataframe tbody tr th:only-of-type {\n",
              "        vertical-align: middle;\n",
              "    }\n",
              "\n",
              "    .dataframe tbody tr th {\n",
              "        vertical-align: top;\n",
              "    }\n",
              "\n",
              "    .dataframe thead th {\n",
              "        text-align: right;\n",
              "    }\n",
              "</style>\n",
              "<table border=\"1\" class=\"dataframe\">\n",
              "  <thead>\n",
              "    <tr style=\"text-align: right;\">\n",
              "      <th></th>\n",
              "      <th>id</th>\n",
              "      <th>price1</th>\n",
              "    </tr>\n",
              "  </thead>\n",
              "  <tbody>\n",
              "    <tr>\n",
              "      <th>0</th>\n",
              "      <td>2242</td>\n",
              "      <td>465.565</td>\n",
              "    </tr>\n",
              "    <tr>\n",
              "      <th>1</th>\n",
              "      <td>20532</td>\n",
              "      <td>300.875</td>\n",
              "    </tr>\n",
              "    <tr>\n",
              "      <th>2</th>\n",
              "      <td>10648</td>\n",
              "      <td>519.981</td>\n",
              "    </tr>\n",
              "    <tr>\n",
              "      <th>3</th>\n",
              "      <td>20677</td>\n",
              "      <td>1405.264</td>\n",
              "    </tr>\n",
              "    <tr>\n",
              "      <th>4</th>\n",
              "      <td>12593</td>\n",
              "      <td>466.174</td>\n",
              "    </tr>\n",
              "    <tr>\n",
              "      <th>...</th>\n",
              "      <td>...</td>\n",
              "      <td>...</td>\n",
              "    </tr>\n",
              "    <tr>\n",
              "      <th>5239</th>\n",
              "      <td>14033</td>\n",
              "      <td>419.996</td>\n",
              "    </tr>\n",
              "    <tr>\n",
              "      <th>5240</th>\n",
              "      <td>297</td>\n",
              "      <td>903.006</td>\n",
              "    </tr>\n",
              "    <tr>\n",
              "      <th>5241</th>\n",
              "      <td>18733</td>\n",
              "      <td>438.408</td>\n",
              "    </tr>\n",
              "    <tr>\n",
              "      <th>5242</th>\n",
              "      <td>6162</td>\n",
              "      <td>227.238</td>\n",
              "    </tr>\n",
              "    <tr>\n",
              "      <th>5243</th>\n",
              "      <td>13574</td>\n",
              "      <td>680.431</td>\n",
              "    </tr>\n",
              "  </tbody>\n",
              "</table>\n",
              "<p>5244 rows × 2 columns</p>\n",
              "</div>\n",
              "      <button class=\"colab-df-convert\" onclick=\"convertToInteractive('df-88349e60-2e5b-4763-95d1-baace2e89de6')\"\n",
              "              title=\"Convert this dataframe to an interactive table.\"\n",
              "              style=\"display:none;\">\n",
              "        \n",
              "  <svg xmlns=\"http://www.w3.org/2000/svg\" height=\"24px\"viewBox=\"0 0 24 24\"\n",
              "       width=\"24px\">\n",
              "    <path d=\"M0 0h24v24H0V0z\" fill=\"none\"/>\n",
              "    <path d=\"M18.56 5.44l.94 2.06.94-2.06 2.06-.94-2.06-.94-.94-2.06-.94 2.06-2.06.94zm-11 1L8.5 8.5l.94-2.06 2.06-.94-2.06-.94L8.5 2.5l-.94 2.06-2.06.94zm10 10l.94 2.06.94-2.06 2.06-.94-2.06-.94-.94-2.06-.94 2.06-2.06.94z\"/><path d=\"M17.41 7.96l-1.37-1.37c-.4-.4-.92-.59-1.43-.59-.52 0-1.04.2-1.43.59L10.3 9.45l-7.72 7.72c-.78.78-.78 2.05 0 2.83L4 21.41c.39.39.9.59 1.41.59.51 0 1.02-.2 1.41-.59l7.78-7.78 2.81-2.81c.8-.78.8-2.07 0-2.86zM5.41 20L4 18.59l7.72-7.72 1.47 1.35L5.41 20z\"/>\n",
              "  </svg>\n",
              "      </button>\n",
              "      \n",
              "  <style>\n",
              "    .colab-df-container {\n",
              "      display:flex;\n",
              "      flex-wrap:wrap;\n",
              "      gap: 12px;\n",
              "    }\n",
              "\n",
              "    .colab-df-convert {\n",
              "      background-color: #E8F0FE;\n",
              "      border: none;\n",
              "      border-radius: 50%;\n",
              "      cursor: pointer;\n",
              "      display: none;\n",
              "      fill: #1967D2;\n",
              "      height: 32px;\n",
              "      padding: 0 0 0 0;\n",
              "      width: 32px;\n",
              "    }\n",
              "\n",
              "    .colab-df-convert:hover {\n",
              "      background-color: #E2EBFA;\n",
              "      box-shadow: 0px 1px 2px rgba(60, 64, 67, 0.3), 0px 1px 3px 1px rgba(60, 64, 67, 0.15);\n",
              "      fill: #174EA6;\n",
              "    }\n",
              "\n",
              "    [theme=dark] .colab-df-convert {\n",
              "      background-color: #3B4455;\n",
              "      fill: #D2E3FC;\n",
              "    }\n",
              "\n",
              "    [theme=dark] .colab-df-convert:hover {\n",
              "      background-color: #434B5C;\n",
              "      box-shadow: 0px 1px 3px 1px rgba(0, 0, 0, 0.15);\n",
              "      filter: drop-shadow(0px 1px 2px rgba(0, 0, 0, 0.3));\n",
              "      fill: #FFFFFF;\n",
              "    }\n",
              "  </style>\n",
              "\n",
              "      <script>\n",
              "        const buttonEl =\n",
              "          document.querySelector('#df-88349e60-2e5b-4763-95d1-baace2e89de6 button.colab-df-convert');\n",
              "        buttonEl.style.display =\n",
              "          google.colab.kernel.accessAllowed ? 'block' : 'none';\n",
              "\n",
              "        async function convertToInteractive(key) {\n",
              "          const element = document.querySelector('#df-88349e60-2e5b-4763-95d1-baace2e89de6');\n",
              "          const dataTable =\n",
              "            await google.colab.kernel.invokeFunction('convertToInteractive',\n",
              "                                                     [key], {});\n",
              "          if (!dataTable) return;\n",
              "\n",
              "          const docLinkHtml = 'Like what you see? Visit the ' +\n",
              "            '<a target=\"_blank\" href=https://colab.research.google.com/notebooks/data_table.ipynb>data table notebook</a>'\n",
              "            + ' to learn more about interactive tables.';\n",
              "          element.innerHTML = '';\n",
              "          dataTable['output_type'] = 'display_data';\n",
              "          await google.colab.output.renderOutput(dataTable, element);\n",
              "          const docLink = document.createElement('div');\n",
              "          docLink.innerHTML = docLinkHtml;\n",
              "          element.appendChild(docLink);\n",
              "        }\n",
              "      </script>\n",
              "    </div>\n",
              "  </div>\n",
              "  "
            ]
          },
          "metadata": {},
          "execution_count": 34
        }
      ],
      "source": [
        "pre_id"
      ]
    },
    {
      "cell_type": "code",
      "execution_count": 35,
      "id": "1c01a0f0",
      "metadata": {
        "id": "1c01a0f0",
        "colab": {
          "base_uri": "https://localhost:8080/",
          "height": 17
        },
        "outputId": "fb905497-65bc-4191-acbc-cf7d6b86dd15"
      },
      "outputs": [
        {
          "output_type": "display_data",
          "data": {
            "text/plain": [
              "<IPython.core.display.Javascript object>"
            ],
            "application/javascript": [
              "\n",
              "    async function download(id, filename, size) {\n",
              "      if (!google.colab.kernel.accessAllowed) {\n",
              "        return;\n",
              "      }\n",
              "      const div = document.createElement('div');\n",
              "      const label = document.createElement('label');\n",
              "      label.textContent = `Downloading \"${filename}\": `;\n",
              "      div.appendChild(label);\n",
              "      const progress = document.createElement('progress');\n",
              "      progress.max = size;\n",
              "      div.appendChild(progress);\n",
              "      document.body.appendChild(div);\n",
              "\n",
              "      const buffers = [];\n",
              "      let downloaded = 0;\n",
              "\n",
              "      const channel = await google.colab.kernel.comms.open(id);\n",
              "      // Send a message to notify the kernel that we're ready.\n",
              "      channel.send({})\n",
              "\n",
              "      for await (const message of channel.messages) {\n",
              "        // Send a message to notify the kernel that we're ready.\n",
              "        channel.send({})\n",
              "        if (message.buffers) {\n",
              "          for (const buffer of message.buffers) {\n",
              "            buffers.push(buffer);\n",
              "            downloaded += buffer.byteLength;\n",
              "            progress.value = downloaded;\n",
              "          }\n",
              "        }\n",
              "      }\n",
              "      const blob = new Blob(buffers, {type: 'application/binary'});\n",
              "      const a = document.createElement('a');\n",
              "      a.href = window.URL.createObjectURL(blob);\n",
              "      a.download = filename;\n",
              "      div.appendChild(a);\n",
              "      a.click();\n",
              "      div.remove();\n",
              "    }\n",
              "  "
            ]
          },
          "metadata": {}
        },
        {
          "output_type": "display_data",
          "data": {
            "text/plain": [
              "<IPython.core.display.Javascript object>"
            ],
            "application/javascript": [
              "download(\"download_507e06db-d4a9-41f1-b90b-00139989c43e\", \".submission_1.csv\", 70852)"
            ]
          },
          "metadata": {}
        }
      ],
      "source": [
        "pre_id.to_csv(r'.submission_1.csv',index=False)\n",
        "from google.colab import files\n",
        "files.download('.submission_1.csv')\n"
      ]
    },
    {
      "cell_type": "code",
      "execution_count": 35,
      "id": "e6bb72c0",
      "metadata": {
        "id": "e6bb72c0"
      },
      "outputs": [],
      "source": []
    },
    {
      "cell_type": "code",
      "execution_count": 35,
      "id": "daab39f9",
      "metadata": {
        "id": "daab39f9"
      },
      "outputs": [],
      "source": []
    },
    {
      "cell_type": "markdown",
      "id": "c7c78462",
      "metadata": {
        "id": "c7c78462"
      },
      "source": [
        "## Tensorflow use karke"
      ]
    },
    {
      "cell_type": "code",
      "execution_count": 36,
      "id": "b2c89ff8",
      "metadata": {
        "id": "b2c89ff8",
        "outputId": "ec0c2736-138d-4311-ac5a-7a4945f9c304",
        "colab": {
          "base_uri": "https://localhost:8080/",
          "height": 270
        }
      },
      "outputs": [
        {
          "output_type": "execute_result",
          "data": {
            "text/plain": [
              "   Rating  actprice1  norating1  noreviews1  star_5f  star_4f  star_3f  \\\n",
              "0     3.9        999       38.0         7.0     17.0      9.0      6.0   \n",
              "1     3.8       1999      531.0        69.0    264.0     92.0     73.0   \n",
              "2     4.4       4999       17.0         4.0     11.0      3.0      2.0   \n",
              "3     4.2        724    46413.0      6229.0   1045.0  12416.0   5352.0   \n",
              "4     3.9       2299       77.0         3.0     35.0     21.0      7.0   \n",
              "\n",
              "   star_2f  star_1f  fulfilled1  maincateg_Women  platform_Flipkart  \n",
              "0        3        3           0                1                  1  \n",
              "1       29       73           1                0                  1  \n",
              "2        1        0           1                1                  1  \n",
              "3      701     4595           1                0                  1  \n",
              "4        7        7           1                0                  1  "
            ],
            "text/html": [
              "\n",
              "  <div id=\"df-10f3f70b-d06c-4c63-8ed0-ef5d348c2a3d\">\n",
              "    <div class=\"colab-df-container\">\n",
              "      <div>\n",
              "<style scoped>\n",
              "    .dataframe tbody tr th:only-of-type {\n",
              "        vertical-align: middle;\n",
              "    }\n",
              "\n",
              "    .dataframe tbody tr th {\n",
              "        vertical-align: top;\n",
              "    }\n",
              "\n",
              "    .dataframe thead th {\n",
              "        text-align: right;\n",
              "    }\n",
              "</style>\n",
              "<table border=\"1\" class=\"dataframe\">\n",
              "  <thead>\n",
              "    <tr style=\"text-align: right;\">\n",
              "      <th></th>\n",
              "      <th>Rating</th>\n",
              "      <th>actprice1</th>\n",
              "      <th>norating1</th>\n",
              "      <th>noreviews1</th>\n",
              "      <th>star_5f</th>\n",
              "      <th>star_4f</th>\n",
              "      <th>star_3f</th>\n",
              "      <th>star_2f</th>\n",
              "      <th>star_1f</th>\n",
              "      <th>fulfilled1</th>\n",
              "      <th>maincateg_Women</th>\n",
              "      <th>platform_Flipkart</th>\n",
              "    </tr>\n",
              "  </thead>\n",
              "  <tbody>\n",
              "    <tr>\n",
              "      <th>0</th>\n",
              "      <td>3.9</td>\n",
              "      <td>999</td>\n",
              "      <td>38.0</td>\n",
              "      <td>7.0</td>\n",
              "      <td>17.0</td>\n",
              "      <td>9.0</td>\n",
              "      <td>6.0</td>\n",
              "      <td>3</td>\n",
              "      <td>3</td>\n",
              "      <td>0</td>\n",
              "      <td>1</td>\n",
              "      <td>1</td>\n",
              "    </tr>\n",
              "    <tr>\n",
              "      <th>1</th>\n",
              "      <td>3.8</td>\n",
              "      <td>1999</td>\n",
              "      <td>531.0</td>\n",
              "      <td>69.0</td>\n",
              "      <td>264.0</td>\n",
              "      <td>92.0</td>\n",
              "      <td>73.0</td>\n",
              "      <td>29</td>\n",
              "      <td>73</td>\n",
              "      <td>1</td>\n",
              "      <td>0</td>\n",
              "      <td>1</td>\n",
              "    </tr>\n",
              "    <tr>\n",
              "      <th>2</th>\n",
              "      <td>4.4</td>\n",
              "      <td>4999</td>\n",
              "      <td>17.0</td>\n",
              "      <td>4.0</td>\n",
              "      <td>11.0</td>\n",
              "      <td>3.0</td>\n",
              "      <td>2.0</td>\n",
              "      <td>1</td>\n",
              "      <td>0</td>\n",
              "      <td>1</td>\n",
              "      <td>1</td>\n",
              "      <td>1</td>\n",
              "    </tr>\n",
              "    <tr>\n",
              "      <th>3</th>\n",
              "      <td>4.2</td>\n",
              "      <td>724</td>\n",
              "      <td>46413.0</td>\n",
              "      <td>6229.0</td>\n",
              "      <td>1045.0</td>\n",
              "      <td>12416.0</td>\n",
              "      <td>5352.0</td>\n",
              "      <td>701</td>\n",
              "      <td>4595</td>\n",
              "      <td>1</td>\n",
              "      <td>0</td>\n",
              "      <td>1</td>\n",
              "    </tr>\n",
              "    <tr>\n",
              "      <th>4</th>\n",
              "      <td>3.9</td>\n",
              "      <td>2299</td>\n",
              "      <td>77.0</td>\n",
              "      <td>3.0</td>\n",
              "      <td>35.0</td>\n",
              "      <td>21.0</td>\n",
              "      <td>7.0</td>\n",
              "      <td>7</td>\n",
              "      <td>7</td>\n",
              "      <td>1</td>\n",
              "      <td>0</td>\n",
              "      <td>1</td>\n",
              "    </tr>\n",
              "  </tbody>\n",
              "</table>\n",
              "</div>\n",
              "      <button class=\"colab-df-convert\" onclick=\"convertToInteractive('df-10f3f70b-d06c-4c63-8ed0-ef5d348c2a3d')\"\n",
              "              title=\"Convert this dataframe to an interactive table.\"\n",
              "              style=\"display:none;\">\n",
              "        \n",
              "  <svg xmlns=\"http://www.w3.org/2000/svg\" height=\"24px\"viewBox=\"0 0 24 24\"\n",
              "       width=\"24px\">\n",
              "    <path d=\"M0 0h24v24H0V0z\" fill=\"none\"/>\n",
              "    <path d=\"M18.56 5.44l.94 2.06.94-2.06 2.06-.94-2.06-.94-.94-2.06-.94 2.06-2.06.94zm-11 1L8.5 8.5l.94-2.06 2.06-.94-2.06-.94L8.5 2.5l-.94 2.06-2.06.94zm10 10l.94 2.06.94-2.06 2.06-.94-2.06-.94-.94-2.06-.94 2.06-2.06.94z\"/><path d=\"M17.41 7.96l-1.37-1.37c-.4-.4-.92-.59-1.43-.59-.52 0-1.04.2-1.43.59L10.3 9.45l-7.72 7.72c-.78.78-.78 2.05 0 2.83L4 21.41c.39.39.9.59 1.41.59.51 0 1.02-.2 1.41-.59l7.78-7.78 2.81-2.81c.8-.78.8-2.07 0-2.86zM5.41 20L4 18.59l7.72-7.72 1.47 1.35L5.41 20z\"/>\n",
              "  </svg>\n",
              "      </button>\n",
              "      \n",
              "  <style>\n",
              "    .colab-df-container {\n",
              "      display:flex;\n",
              "      flex-wrap:wrap;\n",
              "      gap: 12px;\n",
              "    }\n",
              "\n",
              "    .colab-df-convert {\n",
              "      background-color: #E8F0FE;\n",
              "      border: none;\n",
              "      border-radius: 50%;\n",
              "      cursor: pointer;\n",
              "      display: none;\n",
              "      fill: #1967D2;\n",
              "      height: 32px;\n",
              "      padding: 0 0 0 0;\n",
              "      width: 32px;\n",
              "    }\n",
              "\n",
              "    .colab-df-convert:hover {\n",
              "      background-color: #E2EBFA;\n",
              "      box-shadow: 0px 1px 2px rgba(60, 64, 67, 0.3), 0px 1px 3px 1px rgba(60, 64, 67, 0.15);\n",
              "      fill: #174EA6;\n",
              "    }\n",
              "\n",
              "    [theme=dark] .colab-df-convert {\n",
              "      background-color: #3B4455;\n",
              "      fill: #D2E3FC;\n",
              "    }\n",
              "\n",
              "    [theme=dark] .colab-df-convert:hover {\n",
              "      background-color: #434B5C;\n",
              "      box-shadow: 0px 1px 3px 1px rgba(0, 0, 0, 0.15);\n",
              "      filter: drop-shadow(0px 1px 2px rgba(0, 0, 0, 0.3));\n",
              "      fill: #FFFFFF;\n",
              "    }\n",
              "  </style>\n",
              "\n",
              "      <script>\n",
              "        const buttonEl =\n",
              "          document.querySelector('#df-10f3f70b-d06c-4c63-8ed0-ef5d348c2a3d button.colab-df-convert');\n",
              "        buttonEl.style.display =\n",
              "          google.colab.kernel.accessAllowed ? 'block' : 'none';\n",
              "\n",
              "        async function convertToInteractive(key) {\n",
              "          const element = document.querySelector('#df-10f3f70b-d06c-4c63-8ed0-ef5d348c2a3d');\n",
              "          const dataTable =\n",
              "            await google.colab.kernel.invokeFunction('convertToInteractive',\n",
              "                                                     [key], {});\n",
              "          if (!dataTable) return;\n",
              "\n",
              "          const docLinkHtml = 'Like what you see? Visit the ' +\n",
              "            '<a target=\"_blank\" href=https://colab.research.google.com/notebooks/data_table.ipynb>data table notebook</a>'\n",
              "            + ' to learn more about interactive tables.';\n",
              "          element.innerHTML = '';\n",
              "          dataTable['output_type'] = 'display_data';\n",
              "          await google.colab.output.renderOutput(dataTable, element);\n",
              "          const docLink = document.createElement('div');\n",
              "          docLink.innerHTML = docLinkHtml;\n",
              "          element.appendChild(docLink);\n",
              "        }\n",
              "      </script>\n",
              "    </div>\n",
              "  </div>\n",
              "  "
            ]
          },
          "metadata": {},
          "execution_count": 36
        }
      ],
      "source": [
        "X_train.head()"
      ]
    },
    {
      "cell_type": "code",
      "execution_count": 37,
      "id": "e5f44918",
      "metadata": {
        "id": "e5f44918",
        "outputId": "1e63994a-0e71-474b-da7c-c2d6b822f35a",
        "colab": {
          "base_uri": "https://localhost:8080/"
        }
      },
      "outputs": [
        {
          "output_type": "execute_result",
          "data": {
            "text/plain": [
              "(15730, 12)"
            ]
          },
          "metadata": {},
          "execution_count": 37
        }
      ],
      "source": [
        "X_train.shape"
      ]
    },
    {
      "cell_type": "code",
      "execution_count": 38,
      "id": "65dec208",
      "metadata": {
        "id": "65dec208",
        "outputId": "7de1d741-b243-4393-f096-11cb611b7137",
        "colab": {
          "base_uri": "https://localhost:8080/"
        }
      },
      "outputs": [
        {
          "output_type": "execute_result",
          "data": {
            "text/plain": [
              "0     698\n",
              "1     999\n",
              "2    2749\n",
              "3     518\n",
              "4    1379\n",
              "Name: price1, dtype: int64"
            ]
          },
          "metadata": {},
          "execution_count": 38
        }
      ],
      "source": [
        "y_train.head()"
      ]
    },
    {
      "cell_type": "code",
      "execution_count": 39,
      "id": "f2304c7c",
      "metadata": {
        "id": "f2304c7c"
      },
      "outputs": [],
      "source": [
        "import tensorflow as tf\n",
        "from tensorflow import keras"
      ]
    },
    {
      "cell_type": "code",
      "execution_count": 40,
      "id": "d5130965",
      "metadata": {
        "id": "d5130965"
      },
      "outputs": [],
      "source": [
        "model = tf.keras.models.Sequential([\n",
        "  tf.keras.layers.Flatten(input_shape=(12,)),\n",
        "  tf.keras.layers.Dense(24, activation='relu'),\n",
        "  tf.keras.layers.Dense(20, activation='relu'),\n",
        "  tf.keras.layers.Dense(16, activation='relu'),\n",
        "  tf.keras.layers.Dense(8, activation='relu'),\n",
        "  tf.keras.layers.Dense(1)\n",
        "])"
      ]
    },
    {
      "cell_type": "code",
      "execution_count": 41,
      "id": "ccf6c0f0",
      "metadata": {
        "id": "ccf6c0f0",
        "outputId": "ac71e872-cc35-4400-8149-643e0eedb5bd",
        "colab": {
          "base_uri": "https://localhost:8080/"
        }
      },
      "outputs": [
        {
          "output_type": "stream",
          "name": "stdout",
          "text": [
            "Epoch 1/15\n",
            "100/100 [==============================] - 1s 1ms/step - loss: 892122.9375 - accuracy: 0.0000e+00\n",
            "Epoch 2/15\n",
            "100/100 [==============================] - 0s 1ms/step - loss: 730090.5000 - accuracy: 0.0000e+00\n",
            "Epoch 3/15\n",
            "100/100 [==============================] - 0s 1ms/step - loss: 193810.0312 - accuracy: 0.0000e+00\n",
            "Epoch 4/15\n",
            "100/100 [==============================] - 0s 1ms/step - loss: 113255.5156 - accuracy: 0.0000e+00\n",
            "Epoch 5/15\n",
            "100/100 [==============================] - 0s 1ms/step - loss: 96537.4141 - accuracy: 0.0000e+00\n",
            "Epoch 6/15\n",
            "100/100 [==============================] - 0s 1ms/step - loss: 89870.6406 - accuracy: 0.0000e+00\n",
            "Epoch 7/15\n",
            "100/100 [==============================] - 0s 1ms/step - loss: 86619.0469 - accuracy: 0.0000e+00\n",
            "Epoch 8/15\n",
            "100/100 [==============================] - 0s 1ms/step - loss: 84491.6250 - accuracy: 0.0000e+00\n",
            "Epoch 9/15\n",
            "100/100 [==============================] - 0s 1ms/step - loss: 83389.4609 - accuracy: 0.0000e+00\n",
            "Epoch 10/15\n",
            "100/100 [==============================] - 0s 1ms/step - loss: 82515.7109 - accuracy: 0.0000e+00\n",
            "Epoch 11/15\n",
            "100/100 [==============================] - 0s 1ms/step - loss: 81769.6797 - accuracy: 0.0000e+00\n",
            "Epoch 12/15\n",
            "100/100 [==============================] - 0s 1ms/step - loss: 81568.5938 - accuracy: 0.0000e+00\n",
            "Epoch 13/15\n",
            "100/100 [==============================] - 0s 1ms/step - loss: 81032.0312 - accuracy: 0.0000e+00\n",
            "Epoch 14/15\n",
            "100/100 [==============================] - 0s 1ms/step - loss: 80766.5781 - accuracy: 0.0000e+00\n",
            "Epoch 15/15\n",
            "100/100 [==============================] - 0s 1ms/step - loss: 80560.2188 - accuracy: 0.0000e+00\n"
          ]
        }
      ],
      "source": [
        "model.compile(optimizer= 'adam',\n",
        "             loss = tf.keras.losses.MeanSquaredError(\n",
        "                       name='mean_squared_error'),\n",
        "             metrics = [tf.keras.metrics.Accuracy()])\n",
        "\n",
        "history = model.fit(\n",
        "    x = X_scaled,\n",
        "    y = y_train,\n",
        "    epochs = 15,\n",
        "    steps_per_epoch = 100\n",
        ")"
      ]
    },
    {
      "cell_type": "code",
      "execution_count": 42,
      "id": "c57556b0",
      "metadata": {
        "id": "c57556b0"
      },
      "outputs": [],
      "source": [
        "x_val = X_scaled[:100, :]\n",
        "y_val = y_train[:100]"
      ]
    },
    {
      "cell_type": "code",
      "execution_count": 43,
      "id": "75c346ea",
      "metadata": {
        "id": "75c346ea",
        "outputId": "17253302-2988-4207-9476-9dc40c114cf6",
        "colab": {
          "base_uri": "https://localhost:8080/"
        }
      },
      "outputs": [
        {
          "output_type": "execute_result",
          "data": {
            "text/plain": [
              "0      698\n",
              "1      999\n",
              "2     2749\n",
              "3      518\n",
              "4     1379\n",
              "      ... \n",
              "95     629\n",
              "96     989\n",
              "97     499\n",
              "98     249\n",
              "99     605\n",
              "Name: price1, Length: 100, dtype: int64"
            ]
          },
          "metadata": {},
          "execution_count": 43
        }
      ],
      "source": [
        "y_val"
      ]
    },
    {
      "cell_type": "code",
      "execution_count": 44,
      "id": "dd597f7f",
      "metadata": {
        "id": "dd597f7f"
      },
      "outputs": [],
      "source": [
        "pred_1 = model.predict(x_test_scale)"
      ]
    },
    {
      "cell_type": "code",
      "execution_count": 45,
      "id": "5a3eeea3",
      "metadata": {
        "id": "5a3eeea3",
        "outputId": "03cae9cd-016a-4e84-9e04-2c9bfe467303",
        "colab": {
          "base_uri": "https://localhost:8080/"
        }
      },
      "outputs": [
        {
          "output_type": "execute_result",
          "data": {
            "text/plain": [
              "7430.1836"
            ]
          },
          "metadata": {},
          "execution_count": 45
        }
      ],
      "source": [
        "pred_1.max()"
      ]
    },
    {
      "cell_type": "code",
      "execution_count": 46,
      "id": "13e24652",
      "metadata": {
        "id": "13e24652"
      },
      "outputs": [],
      "source": [
        "pre_id = pd.DataFrame(np.round(pred_1,decimals=3),columns=['price1'])"
      ]
    },
    {
      "cell_type": "code",
      "execution_count": 47,
      "id": "e8a9464b",
      "metadata": {
        "id": "e8a9464b"
      },
      "outputs": [],
      "source": [
        "pre_id['id'] = df_id[::]\n",
        "\n",
        "pre_id = pre_id[['id', 'price1']]"
      ]
    },
    {
      "cell_type": "code",
      "execution_count": 48,
      "id": "8ad74e32",
      "metadata": {
        "id": "8ad74e32",
        "outputId": "93979b4f-1aa5-4c75-8de2-1ada68352450",
        "colab": {
          "base_uri": "https://localhost:8080/",
          "height": 488
        }
      },
      "outputs": [
        {
          "output_type": "execute_result",
          "data": {
            "text/plain": [
              "         id       price1\n",
              "0      2242   408.069000\n",
              "1     20532   303.723999\n",
              "2     10648   460.802002\n",
              "3     20677  1373.193970\n",
              "4     12593   419.583008\n",
              "...     ...          ...\n",
              "5239  14033   398.863007\n",
              "5240    297   759.072021\n",
              "5241  18733   394.559998\n",
              "5242   6162   231.488998\n",
              "5243  13574   771.818970\n",
              "\n",
              "[5244 rows x 2 columns]"
            ],
            "text/html": [
              "\n",
              "  <div id=\"df-def0501d-8dc8-4002-a47b-185dfaab0b8a\">\n",
              "    <div class=\"colab-df-container\">\n",
              "      <div>\n",
              "<style scoped>\n",
              "    .dataframe tbody tr th:only-of-type {\n",
              "        vertical-align: middle;\n",
              "    }\n",
              "\n",
              "    .dataframe tbody tr th {\n",
              "        vertical-align: top;\n",
              "    }\n",
              "\n",
              "    .dataframe thead th {\n",
              "        text-align: right;\n",
              "    }\n",
              "</style>\n",
              "<table border=\"1\" class=\"dataframe\">\n",
              "  <thead>\n",
              "    <tr style=\"text-align: right;\">\n",
              "      <th></th>\n",
              "      <th>id</th>\n",
              "      <th>price1</th>\n",
              "    </tr>\n",
              "  </thead>\n",
              "  <tbody>\n",
              "    <tr>\n",
              "      <th>0</th>\n",
              "      <td>2242</td>\n",
              "      <td>408.069000</td>\n",
              "    </tr>\n",
              "    <tr>\n",
              "      <th>1</th>\n",
              "      <td>20532</td>\n",
              "      <td>303.723999</td>\n",
              "    </tr>\n",
              "    <tr>\n",
              "      <th>2</th>\n",
              "      <td>10648</td>\n",
              "      <td>460.802002</td>\n",
              "    </tr>\n",
              "    <tr>\n",
              "      <th>3</th>\n",
              "      <td>20677</td>\n",
              "      <td>1373.193970</td>\n",
              "    </tr>\n",
              "    <tr>\n",
              "      <th>4</th>\n",
              "      <td>12593</td>\n",
              "      <td>419.583008</td>\n",
              "    </tr>\n",
              "    <tr>\n",
              "      <th>...</th>\n",
              "      <td>...</td>\n",
              "      <td>...</td>\n",
              "    </tr>\n",
              "    <tr>\n",
              "      <th>5239</th>\n",
              "      <td>14033</td>\n",
              "      <td>398.863007</td>\n",
              "    </tr>\n",
              "    <tr>\n",
              "      <th>5240</th>\n",
              "      <td>297</td>\n",
              "      <td>759.072021</td>\n",
              "    </tr>\n",
              "    <tr>\n",
              "      <th>5241</th>\n",
              "      <td>18733</td>\n",
              "      <td>394.559998</td>\n",
              "    </tr>\n",
              "    <tr>\n",
              "      <th>5242</th>\n",
              "      <td>6162</td>\n",
              "      <td>231.488998</td>\n",
              "    </tr>\n",
              "    <tr>\n",
              "      <th>5243</th>\n",
              "      <td>13574</td>\n",
              "      <td>771.818970</td>\n",
              "    </tr>\n",
              "  </tbody>\n",
              "</table>\n",
              "<p>5244 rows × 2 columns</p>\n",
              "</div>\n",
              "      <button class=\"colab-df-convert\" onclick=\"convertToInteractive('df-def0501d-8dc8-4002-a47b-185dfaab0b8a')\"\n",
              "              title=\"Convert this dataframe to an interactive table.\"\n",
              "              style=\"display:none;\">\n",
              "        \n",
              "  <svg xmlns=\"http://www.w3.org/2000/svg\" height=\"24px\"viewBox=\"0 0 24 24\"\n",
              "       width=\"24px\">\n",
              "    <path d=\"M0 0h24v24H0V0z\" fill=\"none\"/>\n",
              "    <path d=\"M18.56 5.44l.94 2.06.94-2.06 2.06-.94-2.06-.94-.94-2.06-.94 2.06-2.06.94zm-11 1L8.5 8.5l.94-2.06 2.06-.94-2.06-.94L8.5 2.5l-.94 2.06-2.06.94zm10 10l.94 2.06.94-2.06 2.06-.94-2.06-.94-.94-2.06-.94 2.06-2.06.94z\"/><path d=\"M17.41 7.96l-1.37-1.37c-.4-.4-.92-.59-1.43-.59-.52 0-1.04.2-1.43.59L10.3 9.45l-7.72 7.72c-.78.78-.78 2.05 0 2.83L4 21.41c.39.39.9.59 1.41.59.51 0 1.02-.2 1.41-.59l7.78-7.78 2.81-2.81c.8-.78.8-2.07 0-2.86zM5.41 20L4 18.59l7.72-7.72 1.47 1.35L5.41 20z\"/>\n",
              "  </svg>\n",
              "      </button>\n",
              "      \n",
              "  <style>\n",
              "    .colab-df-container {\n",
              "      display:flex;\n",
              "      flex-wrap:wrap;\n",
              "      gap: 12px;\n",
              "    }\n",
              "\n",
              "    .colab-df-convert {\n",
              "      background-color: #E8F0FE;\n",
              "      border: none;\n",
              "      border-radius: 50%;\n",
              "      cursor: pointer;\n",
              "      display: none;\n",
              "      fill: #1967D2;\n",
              "      height: 32px;\n",
              "      padding: 0 0 0 0;\n",
              "      width: 32px;\n",
              "    }\n",
              "\n",
              "    .colab-df-convert:hover {\n",
              "      background-color: #E2EBFA;\n",
              "      box-shadow: 0px 1px 2px rgba(60, 64, 67, 0.3), 0px 1px 3px 1px rgba(60, 64, 67, 0.15);\n",
              "      fill: #174EA6;\n",
              "    }\n",
              "\n",
              "    [theme=dark] .colab-df-convert {\n",
              "      background-color: #3B4455;\n",
              "      fill: #D2E3FC;\n",
              "    }\n",
              "\n",
              "    [theme=dark] .colab-df-convert:hover {\n",
              "      background-color: #434B5C;\n",
              "      box-shadow: 0px 1px 3px 1px rgba(0, 0, 0, 0.15);\n",
              "      filter: drop-shadow(0px 1px 2px rgba(0, 0, 0, 0.3));\n",
              "      fill: #FFFFFF;\n",
              "    }\n",
              "  </style>\n",
              "\n",
              "      <script>\n",
              "        const buttonEl =\n",
              "          document.querySelector('#df-def0501d-8dc8-4002-a47b-185dfaab0b8a button.colab-df-convert');\n",
              "        buttonEl.style.display =\n",
              "          google.colab.kernel.accessAllowed ? 'block' : 'none';\n",
              "\n",
              "        async function convertToInteractive(key) {\n",
              "          const element = document.querySelector('#df-def0501d-8dc8-4002-a47b-185dfaab0b8a');\n",
              "          const dataTable =\n",
              "            await google.colab.kernel.invokeFunction('convertToInteractive',\n",
              "                                                     [key], {});\n",
              "          if (!dataTable) return;\n",
              "\n",
              "          const docLinkHtml = 'Like what you see? Visit the ' +\n",
              "            '<a target=\"_blank\" href=https://colab.research.google.com/notebooks/data_table.ipynb>data table notebook</a>'\n",
              "            + ' to learn more about interactive tables.';\n",
              "          element.innerHTML = '';\n",
              "          dataTable['output_type'] = 'display_data';\n",
              "          await google.colab.output.renderOutput(dataTable, element);\n",
              "          const docLink = document.createElement('div');\n",
              "          docLink.innerHTML = docLinkHtml;\n",
              "          element.appendChild(docLink);\n",
              "        }\n",
              "      </script>\n",
              "    </div>\n",
              "  </div>\n",
              "  "
            ]
          },
          "metadata": {},
          "execution_count": 48
        }
      ],
      "source": [
        "pre_id"
      ]
    },
    {
      "cell_type": "code",
      "execution_count": 49,
      "id": "7f167821",
      "metadata": {
        "id": "7f167821"
      },
      "outputs": [],
      "source": [
        "pre_id.to_csv(r'.\\hack_submission_4.csv',index=False)\n"
      ]
    },
    {
      "cell_type": "code",
      "execution_count": 49,
      "id": "b2c48f62",
      "metadata": {
        "id": "b2c48f62"
      },
      "outputs": [],
      "source": []
    },
    {
      "cell_type": "code",
      "execution_count": 49,
      "id": "b877d805",
      "metadata": {
        "id": "b877d805"
      },
      "outputs": [],
      "source": []
    },
    {
      "cell_type": "markdown",
      "id": "6982e5e2",
      "metadata": {
        "id": "6982e5e2"
      },
      "source": [
        "## ExtraTreesSe"
      ]
    },
    {
      "cell_type": "code",
      "execution_count": 50,
      "id": "24bdccb0",
      "metadata": {
        "id": "24bdccb0"
      },
      "outputs": [],
      "source": [
        "from sklearn.ensemble import ExtraTreesRegressor\n"
      ]
    },
    {
      "cell_type": "code",
      "execution_count": 51,
      "id": "b8849d74",
      "metadata": {
        "colab": {
          "base_uri": "https://localhost:8080/"
        },
        "id": "b8849d74",
        "outputId": "68a739e9-1c9e-40eb-b50f-a415e3dd0c7e"
      },
      "outputs": [
        {
          "output_type": "execute_result",
          "data": {
            "text/plain": [
              "Index(['Rating', 'actprice1', 'norating1', 'noreviews1', 'star_5f', 'star_4f',\n",
              "       'star_3f', 'star_2f', 'star_1f', 'fulfilled1', 'maincateg_Women',\n",
              "       'platform_Flipkart'],\n",
              "      dtype='object')"
            ]
          },
          "metadata": {},
          "execution_count": 51
        }
      ],
      "source": [
        "X_train.columns"
      ]
    },
    {
      "cell_type": "code",
      "execution_count": 52,
      "id": "95848bf2",
      "metadata": {
        "id": "95848bf2"
      },
      "outputs": [],
      "source": [
        "X_train_1 = X_train[['Rating', 'actprice1', 'star_5f', 'star_4f',\n",
        "       'star_3f', 'star_2f', 'star_1f', 'fulfilled1', 'maincateg_Women',\n",
        "       'platform_Flipkart']]"
      ]
    },
    {
      "cell_type": "code",
      "execution_count": 53,
      "id": "928bfa46",
      "metadata": {
        "id": "928bfa46"
      },
      "outputs": [],
      "source": [
        "from sklearn.preprocessing import StandardScaler\n",
        "sc_1 = StandardScaler()\n",
        "\n",
        "X_scaled_1 = sc_1.fit_transform(X_train_1)"
      ]
    },
    {
      "cell_type": "code",
      "execution_count": 54,
      "id": "a75f2e89",
      "metadata": {
        "colab": {
          "base_uri": "https://localhost:8080/"
        },
        "id": "a75f2e89",
        "outputId": "7b9f529e-8a6b-422d-bb36-98ee260daa77"
      },
      "outputs": [
        {
          "output_type": "execute_result",
          "data": {
            "text/plain": [
              "0    30.13%\n",
              "1    50.03%\n",
              "2    45.01%\n",
              "3    15.85%\n",
              "4    40.02%\n",
              "Name: Offer %, dtype: object"
            ]
          },
          "metadata": {},
          "execution_count": 54
        }
      ],
      "source": [
        "y_train_2 = data['Offer %']\n",
        "y_train_2.head()"
      ]
    },
    {
      "cell_type": "code",
      "execution_count": 55,
      "id": "012f88bf",
      "metadata": {
        "id": "012f88bf"
      },
      "outputs": [],
      "source": [
        "y = y_train_2.str.replace(\"%\", \"\")\n",
        "y = y.astype(float)"
      ]
    },
    {
      "cell_type": "code",
      "execution_count": 56,
      "id": "93426fd1",
      "metadata": {
        "colab": {
          "base_uri": "https://localhost:8080/"
        },
        "id": "93426fd1",
        "outputId": "06487c76-a959-49db-d90e-91f8da37756a"
      },
      "outputs": [
        {
          "output_type": "execute_result",
          "data": {
            "text/plain": [
              "0        30.13\n",
              "1        50.03\n",
              "2        45.01\n",
              "3        15.85\n",
              "4        40.02\n",
              "         ...  \n",
              "15725    52.71\n",
              "15726    50.00\n",
              "15727    34.07\n",
              "15728    50.01\n",
              "15729    45.02\n",
              "Name: Offer %, Length: 15730, dtype: float64"
            ]
          },
          "metadata": {},
          "execution_count": 56
        }
      ],
      "source": [
        "y"
      ]
    },
    {
      "cell_type": "code",
      "execution_count": 57,
      "id": "f5e43127",
      "metadata": {
        "id": "f5e43127"
      },
      "outputs": [],
      "source": [
        "extra_tree_forest = ExtraTreesRegressor(n_estimators = 1000, min_samples_split = 6, min_samples_leaf = 6, max_features = 8, bootstrap = True  )\n",
        "\n",
        "extra_tree_forest.fit(X_scaled_1, y)\n",
        "\n",
        "feature_importance = extra_tree_forest.feature_importances_\n",
        "\n",
        "feature_importance_normalized = np.std([tree.feature_importances_ for tree in \n",
        "                                        extra_tree_forest.estimators_],\n",
        "                                        axis = 0)"
      ]
    },
    {
      "cell_type": "code",
      "execution_count": 58,
      "id": "71187c91",
      "metadata": {
        "id": "71187c91"
      },
      "outputs": [],
      "source": [
        "X_test_1 = X_test[['Rating', 'actprice1', 'star_5f', 'star_4f',\n",
        "       'star_3f', 'star_2f', 'star_1f', 'fulfilled1', 'maincateg_Women',\n",
        "       'platform_Flipkart']]"
      ]
    },
    {
      "cell_type": "code",
      "execution_count": 59,
      "id": "b9432af8",
      "metadata": {
        "id": "b9432af8"
      },
      "outputs": [],
      "source": [
        "X_test_scale = sc_1.transform(X_test_1)"
      ]
    },
    {
      "cell_type": "code",
      "execution_count": 60,
      "id": "79ac9053",
      "metadata": {
        "id": "79ac9053"
      },
      "outputs": [],
      "source": [
        "pred_offer = extra_tree_forest.predict(X_test_scale)"
      ]
    },
    {
      "cell_type": "code",
      "execution_count": 61,
      "id": "d442a37d",
      "metadata": {
        "colab": {
          "base_uri": "https://localhost:8080/"
        },
        "id": "d442a37d",
        "outputId": "75a78020-8166-4286-ab20-0714731307e8"
      },
      "outputs": [
        {
          "output_type": "execute_result",
          "data": {
            "text/plain": [
              "array([58.48835834, 42.83155133, 54.59223966, ..., 60.38306834,\n",
              "       54.54429924,  4.67179154])"
            ]
          },
          "metadata": {},
          "execution_count": 61
        }
      ],
      "source": [
        "pred_offer"
      ]
    },
    {
      "cell_type": "code",
      "execution_count": 62,
      "id": "bf2c3be4",
      "metadata": {
        "id": "bf2c3be4"
      },
      "outputs": [],
      "source": [
        "X_actual = X_test_1['actprice1']"
      ]
    },
    {
      "cell_type": "code",
      "execution_count": 63,
      "id": "f15aaf0c",
      "metadata": {
        "id": "f15aaf0c"
      },
      "outputs": [],
      "source": [
        "pred_2 =(1 - pred_offer/100)*X_actual"
      ]
    },
    {
      "cell_type": "code",
      "execution_count": 64,
      "id": "bde07692",
      "metadata": {
        "colab": {
          "base_uri": "https://localhost:8080/"
        },
        "id": "bde07692",
        "outputId": "a16e20b7-919b-4a6a-ebe3-357c9a694d03"
      },
      "outputs": [
        {
          "output_type": "execute_result",
          "data": {
            "text/plain": [
              "0        414.70130\n",
              "1        285.27056\n",
              "2        453.62353\n",
              "3       1190.48168\n",
              "4        389.03025\n",
              "           ...    \n",
              "5239     362.72501\n",
              "5240     710.83106\n",
              "5241     395.77315\n",
              "5242     226.82395\n",
              "5243     714.00828\n",
              "Name: actprice1, Length: 5244, dtype: float64"
            ]
          },
          "metadata": {},
          "execution_count": 64
        }
      ],
      "source": [
        "pred_2 = np.round(pred_2,decimals=5)\n",
        "pred_2"
      ]
    },
    {
      "cell_type": "code",
      "execution_count": 65,
      "id": "9a27608c",
      "metadata": {
        "id": "9a27608c"
      },
      "outputs": [],
      "source": [
        "pre_id_1 = pd.DataFrame(pred_2,columns=['actprice1'])"
      ]
    },
    {
      "cell_type": "code",
      "execution_count": 66,
      "id": "08f6828c",
      "metadata": {
        "id": "08f6828c",
        "outputId": "989d3d05-c2fc-4806-b682-7036fc334d62",
        "colab": {
          "base_uri": "https://localhost:8080/",
          "height": 505
        }
      },
      "outputs": [
        {
          "output_type": "execute_result",
          "data": {
            "text/plain": [
              "       actprice1\n",
              "0      414.70130\n",
              "1      285.27056\n",
              "2      453.62353\n",
              "3     1190.48168\n",
              "4      389.03025\n",
              "...          ...\n",
              "5239   362.72501\n",
              "5240   710.83106\n",
              "5241   395.77315\n",
              "5242   226.82395\n",
              "5243   714.00828\n",
              "\n",
              "[5244 rows x 1 columns]"
            ],
            "text/html": [
              "\n",
              "  <div id=\"df-75a9035b-1002-439f-b6cf-68650d77c3a1\">\n",
              "    <div class=\"colab-df-container\">\n",
              "      <div>\n",
              "<style scoped>\n",
              "    .dataframe tbody tr th:only-of-type {\n",
              "        vertical-align: middle;\n",
              "    }\n",
              "\n",
              "    .dataframe tbody tr th {\n",
              "        vertical-align: top;\n",
              "    }\n",
              "\n",
              "    .dataframe thead th {\n",
              "        text-align: right;\n",
              "    }\n",
              "</style>\n",
              "<table border=\"1\" class=\"dataframe\">\n",
              "  <thead>\n",
              "    <tr style=\"text-align: right;\">\n",
              "      <th></th>\n",
              "      <th>actprice1</th>\n",
              "    </tr>\n",
              "  </thead>\n",
              "  <tbody>\n",
              "    <tr>\n",
              "      <th>0</th>\n",
              "      <td>414.70130</td>\n",
              "    </tr>\n",
              "    <tr>\n",
              "      <th>1</th>\n",
              "      <td>285.27056</td>\n",
              "    </tr>\n",
              "    <tr>\n",
              "      <th>2</th>\n",
              "      <td>453.62353</td>\n",
              "    </tr>\n",
              "    <tr>\n",
              "      <th>3</th>\n",
              "      <td>1190.48168</td>\n",
              "    </tr>\n",
              "    <tr>\n",
              "      <th>4</th>\n",
              "      <td>389.03025</td>\n",
              "    </tr>\n",
              "    <tr>\n",
              "      <th>...</th>\n",
              "      <td>...</td>\n",
              "    </tr>\n",
              "    <tr>\n",
              "      <th>5239</th>\n",
              "      <td>362.72501</td>\n",
              "    </tr>\n",
              "    <tr>\n",
              "      <th>5240</th>\n",
              "      <td>710.83106</td>\n",
              "    </tr>\n",
              "    <tr>\n",
              "      <th>5241</th>\n",
              "      <td>395.77315</td>\n",
              "    </tr>\n",
              "    <tr>\n",
              "      <th>5242</th>\n",
              "      <td>226.82395</td>\n",
              "    </tr>\n",
              "    <tr>\n",
              "      <th>5243</th>\n",
              "      <td>714.00828</td>\n",
              "    </tr>\n",
              "  </tbody>\n",
              "</table>\n",
              "<p>5244 rows × 1 columns</p>\n",
              "</div>\n",
              "      <button class=\"colab-df-convert\" onclick=\"convertToInteractive('df-75a9035b-1002-439f-b6cf-68650d77c3a1')\"\n",
              "              title=\"Convert this dataframe to an interactive table.\"\n",
              "              style=\"display:none;\">\n",
              "        \n",
              "  <svg xmlns=\"http://www.w3.org/2000/svg\" height=\"24px\"viewBox=\"0 0 24 24\"\n",
              "       width=\"24px\">\n",
              "    <path d=\"M0 0h24v24H0V0z\" fill=\"none\"/>\n",
              "    <path d=\"M18.56 5.44l.94 2.06.94-2.06 2.06-.94-2.06-.94-.94-2.06-.94 2.06-2.06.94zm-11 1L8.5 8.5l.94-2.06 2.06-.94-2.06-.94L8.5 2.5l-.94 2.06-2.06.94zm10 10l.94 2.06.94-2.06 2.06-.94-2.06-.94-.94-2.06-.94 2.06-2.06.94z\"/><path d=\"M17.41 7.96l-1.37-1.37c-.4-.4-.92-.59-1.43-.59-.52 0-1.04.2-1.43.59L10.3 9.45l-7.72 7.72c-.78.78-.78 2.05 0 2.83L4 21.41c.39.39.9.59 1.41.59.51 0 1.02-.2 1.41-.59l7.78-7.78 2.81-2.81c.8-.78.8-2.07 0-2.86zM5.41 20L4 18.59l7.72-7.72 1.47 1.35L5.41 20z\"/>\n",
              "  </svg>\n",
              "      </button>\n",
              "      \n",
              "  <style>\n",
              "    .colab-df-container {\n",
              "      display:flex;\n",
              "      flex-wrap:wrap;\n",
              "      gap: 12px;\n",
              "    }\n",
              "\n",
              "    .colab-df-convert {\n",
              "      background-color: #E8F0FE;\n",
              "      border: none;\n",
              "      border-radius: 50%;\n",
              "      cursor: pointer;\n",
              "      display: none;\n",
              "      fill: #1967D2;\n",
              "      height: 32px;\n",
              "      padding: 0 0 0 0;\n",
              "      width: 32px;\n",
              "    }\n",
              "\n",
              "    .colab-df-convert:hover {\n",
              "      background-color: #E2EBFA;\n",
              "      box-shadow: 0px 1px 2px rgba(60, 64, 67, 0.3), 0px 1px 3px 1px rgba(60, 64, 67, 0.15);\n",
              "      fill: #174EA6;\n",
              "    }\n",
              "\n",
              "    [theme=dark] .colab-df-convert {\n",
              "      background-color: #3B4455;\n",
              "      fill: #D2E3FC;\n",
              "    }\n",
              "\n",
              "    [theme=dark] .colab-df-convert:hover {\n",
              "      background-color: #434B5C;\n",
              "      box-shadow: 0px 1px 3px 1px rgba(0, 0, 0, 0.15);\n",
              "      filter: drop-shadow(0px 1px 2px rgba(0, 0, 0, 0.3));\n",
              "      fill: #FFFFFF;\n",
              "    }\n",
              "  </style>\n",
              "\n",
              "      <script>\n",
              "        const buttonEl =\n",
              "          document.querySelector('#df-75a9035b-1002-439f-b6cf-68650d77c3a1 button.colab-df-convert');\n",
              "        buttonEl.style.display =\n",
              "          google.colab.kernel.accessAllowed ? 'block' : 'none';\n",
              "\n",
              "        async function convertToInteractive(key) {\n",
              "          const element = document.querySelector('#df-75a9035b-1002-439f-b6cf-68650d77c3a1');\n",
              "          const dataTable =\n",
              "            await google.colab.kernel.invokeFunction('convertToInteractive',\n",
              "                                                     [key], {});\n",
              "          if (!dataTable) return;\n",
              "\n",
              "          const docLinkHtml = 'Like what you see? Visit the ' +\n",
              "            '<a target=\"_blank\" href=https://colab.research.google.com/notebooks/data_table.ipynb>data table notebook</a>'\n",
              "            + ' to learn more about interactive tables.';\n",
              "          element.innerHTML = '';\n",
              "          dataTable['output_type'] = 'display_data';\n",
              "          await google.colab.output.renderOutput(dataTable, element);\n",
              "          const docLink = document.createElement('div');\n",
              "          docLink.innerHTML = docLinkHtml;\n",
              "          element.appendChild(docLink);\n",
              "        }\n",
              "      </script>\n",
              "    </div>\n",
              "  </div>\n",
              "  "
            ]
          },
          "metadata": {},
          "execution_count": 66
        }
      ],
      "source": [
        "pre_id_1"
      ]
    },
    {
      "cell_type": "code",
      "execution_count": 67,
      "id": "162dd2fa",
      "metadata": {
        "id": "162dd2fa"
      },
      "outputs": [],
      "source": [
        "pre_id_1['id'] = df_id[::]"
      ]
    },
    {
      "cell_type": "code",
      "execution_count": 68,
      "id": "6d1b0965",
      "metadata": {
        "id": "6d1b0965"
      },
      "outputs": [],
      "source": [
        "pre_id_1 = pre_id_1[['id', 'actprice1']]"
      ]
    },
    {
      "cell_type": "code",
      "execution_count": 69,
      "id": "0175312b",
      "metadata": {
        "id": "0175312b"
      },
      "outputs": [],
      "source": [
        "df_new = pre_id_1.rename(columns={'actprice1': 'price1'})"
      ]
    },
    {
      "cell_type": "code",
      "execution_count": 70,
      "id": "7a5c128b",
      "metadata": {
        "id": "7a5c128b",
        "outputId": "66485ff6-f8ef-4190-eb2e-778288379010",
        "colab": {
          "base_uri": "https://localhost:8080/",
          "height": 488
        }
      },
      "outputs": [
        {
          "output_type": "execute_result",
          "data": {
            "text/plain": [
              "         id      price1\n",
              "0      2242   414.70130\n",
              "1     20532   285.27056\n",
              "2     10648   453.62353\n",
              "3     20677  1190.48168\n",
              "4     12593   389.03025\n",
              "...     ...         ...\n",
              "5239  14033   362.72501\n",
              "5240    297   710.83106\n",
              "5241  18733   395.77315\n",
              "5242   6162   226.82395\n",
              "5243  13574   714.00828\n",
              "\n",
              "[5244 rows x 2 columns]"
            ],
            "text/html": [
              "\n",
              "  <div id=\"df-030e25a2-aec3-4ef9-b885-4dda973faa0f\">\n",
              "    <div class=\"colab-df-container\">\n",
              "      <div>\n",
              "<style scoped>\n",
              "    .dataframe tbody tr th:only-of-type {\n",
              "        vertical-align: middle;\n",
              "    }\n",
              "\n",
              "    .dataframe tbody tr th {\n",
              "        vertical-align: top;\n",
              "    }\n",
              "\n",
              "    .dataframe thead th {\n",
              "        text-align: right;\n",
              "    }\n",
              "</style>\n",
              "<table border=\"1\" class=\"dataframe\">\n",
              "  <thead>\n",
              "    <tr style=\"text-align: right;\">\n",
              "      <th></th>\n",
              "      <th>id</th>\n",
              "      <th>price1</th>\n",
              "    </tr>\n",
              "  </thead>\n",
              "  <tbody>\n",
              "    <tr>\n",
              "      <th>0</th>\n",
              "      <td>2242</td>\n",
              "      <td>414.70130</td>\n",
              "    </tr>\n",
              "    <tr>\n",
              "      <th>1</th>\n",
              "      <td>20532</td>\n",
              "      <td>285.27056</td>\n",
              "    </tr>\n",
              "    <tr>\n",
              "      <th>2</th>\n",
              "      <td>10648</td>\n",
              "      <td>453.62353</td>\n",
              "    </tr>\n",
              "    <tr>\n",
              "      <th>3</th>\n",
              "      <td>20677</td>\n",
              "      <td>1190.48168</td>\n",
              "    </tr>\n",
              "    <tr>\n",
              "      <th>4</th>\n",
              "      <td>12593</td>\n",
              "      <td>389.03025</td>\n",
              "    </tr>\n",
              "    <tr>\n",
              "      <th>...</th>\n",
              "      <td>...</td>\n",
              "      <td>...</td>\n",
              "    </tr>\n",
              "    <tr>\n",
              "      <th>5239</th>\n",
              "      <td>14033</td>\n",
              "      <td>362.72501</td>\n",
              "    </tr>\n",
              "    <tr>\n",
              "      <th>5240</th>\n",
              "      <td>297</td>\n",
              "      <td>710.83106</td>\n",
              "    </tr>\n",
              "    <tr>\n",
              "      <th>5241</th>\n",
              "      <td>18733</td>\n",
              "      <td>395.77315</td>\n",
              "    </tr>\n",
              "    <tr>\n",
              "      <th>5242</th>\n",
              "      <td>6162</td>\n",
              "      <td>226.82395</td>\n",
              "    </tr>\n",
              "    <tr>\n",
              "      <th>5243</th>\n",
              "      <td>13574</td>\n",
              "      <td>714.00828</td>\n",
              "    </tr>\n",
              "  </tbody>\n",
              "</table>\n",
              "<p>5244 rows × 2 columns</p>\n",
              "</div>\n",
              "      <button class=\"colab-df-convert\" onclick=\"convertToInteractive('df-030e25a2-aec3-4ef9-b885-4dda973faa0f')\"\n",
              "              title=\"Convert this dataframe to an interactive table.\"\n",
              "              style=\"display:none;\">\n",
              "        \n",
              "  <svg xmlns=\"http://www.w3.org/2000/svg\" height=\"24px\"viewBox=\"0 0 24 24\"\n",
              "       width=\"24px\">\n",
              "    <path d=\"M0 0h24v24H0V0z\" fill=\"none\"/>\n",
              "    <path d=\"M18.56 5.44l.94 2.06.94-2.06 2.06-.94-2.06-.94-.94-2.06-.94 2.06-2.06.94zm-11 1L8.5 8.5l.94-2.06 2.06-.94-2.06-.94L8.5 2.5l-.94 2.06-2.06.94zm10 10l.94 2.06.94-2.06 2.06-.94-2.06-.94-.94-2.06-.94 2.06-2.06.94z\"/><path d=\"M17.41 7.96l-1.37-1.37c-.4-.4-.92-.59-1.43-.59-.52 0-1.04.2-1.43.59L10.3 9.45l-7.72 7.72c-.78.78-.78 2.05 0 2.83L4 21.41c.39.39.9.59 1.41.59.51 0 1.02-.2 1.41-.59l7.78-7.78 2.81-2.81c.8-.78.8-2.07 0-2.86zM5.41 20L4 18.59l7.72-7.72 1.47 1.35L5.41 20z\"/>\n",
              "  </svg>\n",
              "      </button>\n",
              "      \n",
              "  <style>\n",
              "    .colab-df-container {\n",
              "      display:flex;\n",
              "      flex-wrap:wrap;\n",
              "      gap: 12px;\n",
              "    }\n",
              "\n",
              "    .colab-df-convert {\n",
              "      background-color: #E8F0FE;\n",
              "      border: none;\n",
              "      border-radius: 50%;\n",
              "      cursor: pointer;\n",
              "      display: none;\n",
              "      fill: #1967D2;\n",
              "      height: 32px;\n",
              "      padding: 0 0 0 0;\n",
              "      width: 32px;\n",
              "    }\n",
              "\n",
              "    .colab-df-convert:hover {\n",
              "      background-color: #E2EBFA;\n",
              "      box-shadow: 0px 1px 2px rgba(60, 64, 67, 0.3), 0px 1px 3px 1px rgba(60, 64, 67, 0.15);\n",
              "      fill: #174EA6;\n",
              "    }\n",
              "\n",
              "    [theme=dark] .colab-df-convert {\n",
              "      background-color: #3B4455;\n",
              "      fill: #D2E3FC;\n",
              "    }\n",
              "\n",
              "    [theme=dark] .colab-df-convert:hover {\n",
              "      background-color: #434B5C;\n",
              "      box-shadow: 0px 1px 3px 1px rgba(0, 0, 0, 0.15);\n",
              "      filter: drop-shadow(0px 1px 2px rgba(0, 0, 0, 0.3));\n",
              "      fill: #FFFFFF;\n",
              "    }\n",
              "  </style>\n",
              "\n",
              "      <script>\n",
              "        const buttonEl =\n",
              "          document.querySelector('#df-030e25a2-aec3-4ef9-b885-4dda973faa0f button.colab-df-convert');\n",
              "        buttonEl.style.display =\n",
              "          google.colab.kernel.accessAllowed ? 'block' : 'none';\n",
              "\n",
              "        async function convertToInteractive(key) {\n",
              "          const element = document.querySelector('#df-030e25a2-aec3-4ef9-b885-4dda973faa0f');\n",
              "          const dataTable =\n",
              "            await google.colab.kernel.invokeFunction('convertToInteractive',\n",
              "                                                     [key], {});\n",
              "          if (!dataTable) return;\n",
              "\n",
              "          const docLinkHtml = 'Like what you see? Visit the ' +\n",
              "            '<a target=\"_blank\" href=https://colab.research.google.com/notebooks/data_table.ipynb>data table notebook</a>'\n",
              "            + ' to learn more about interactive tables.';\n",
              "          element.innerHTML = '';\n",
              "          dataTable['output_type'] = 'display_data';\n",
              "          await google.colab.output.renderOutput(dataTable, element);\n",
              "          const docLink = document.createElement('div');\n",
              "          docLink.innerHTML = docLinkHtml;\n",
              "          element.appendChild(docLink);\n",
              "        }\n",
              "      </script>\n",
              "    </div>\n",
              "  </div>\n",
              "  "
            ]
          },
          "metadata": {},
          "execution_count": 70
        }
      ],
      "source": [
        "\n",
        "df_new"
      ]
    },
    {
      "cell_type": "code",
      "execution_count": 71,
      "id": "f54b397a",
      "metadata": {
        "colab": {
          "base_uri": "https://localhost:8080/",
          "height": 37
        },
        "id": "f54b397a",
        "outputId": "26ba4927-6ff0-4492-810f-0a0c0fd40259"
      },
      "outputs": [
        {
          "output_type": "display_data",
          "data": {
            "text/plain": [
              "<IPython.core.display.Javascript object>"
            ],
            "application/javascript": [
              "\n",
              "    async function download(id, filename, size) {\n",
              "      if (!google.colab.kernel.accessAllowed) {\n",
              "        return;\n",
              "      }\n",
              "      const div = document.createElement('div');\n",
              "      const label = document.createElement('label');\n",
              "      label.textContent = `Downloading \"${filename}\": `;\n",
              "      div.appendChild(label);\n",
              "      const progress = document.createElement('progress');\n",
              "      progress.max = size;\n",
              "      div.appendChild(progress);\n",
              "      document.body.appendChild(div);\n",
              "\n",
              "      const buffers = [];\n",
              "      let downloaded = 0;\n",
              "\n",
              "      const channel = await google.colab.kernel.comms.open(id);\n",
              "      // Send a message to notify the kernel that we're ready.\n",
              "      channel.send({})\n",
              "\n",
              "      for await (const message of channel.messages) {\n",
              "        // Send a message to notify the kernel that we're ready.\n",
              "        channel.send({})\n",
              "        if (message.buffers) {\n",
              "          for (const buffer of message.buffers) {\n",
              "            buffers.push(buffer);\n",
              "            downloaded += buffer.byteLength;\n",
              "            progress.value = downloaded;\n",
              "          }\n",
              "        }\n",
              "      }\n",
              "      const blob = new Blob(buffers, {type: 'application/binary'});\n",
              "      const a = document.createElement('a');\n",
              "      a.href = window.URL.createObjectURL(blob);\n",
              "      a.download = filename;\n",
              "      div.appendChild(a);\n",
              "      a.click();\n",
              "      div.remove();\n",
              "    }\n",
              "  "
            ]
          },
          "metadata": {}
        },
        {
          "output_type": "display_data",
          "data": {
            "text/plain": [
              "<IPython.core.display.Javascript object>"
            ],
            "application/javascript": [
              "download(\"download_08e6aab7-98ca-4325-8224-5a8747d624a8\", \".submission_1.csv\", 70852)"
            ]
          },
          "metadata": {}
        }
      ],
      "source": [
        "df_new.to_csv(r'submission_try.csv',index=False)\n",
        "from google.colab import files\n",
        "files.download('.submission_1.csv')"
      ]
    },
    {
      "cell_type": "code",
      "execution_count": 71,
      "id": "f1cb22eb",
      "metadata": {
        "id": "f1cb22eb"
      },
      "outputs": [],
      "source": []
    },
    {
      "cell_type": "code",
      "execution_count": 71,
      "id": "f8a0a0c3",
      "metadata": {
        "id": "f8a0a0c3"
      },
      "outputs": [],
      "source": []
    }
  ],
  "metadata": {
    "kernelspec": {
      "display_name": "Python 3 (ipykernel)",
      "language": "python",
      "name": "python3"
    },
    "language_info": {
      "codemirror_mode": {
        "name": "ipython",
        "version": 3
      },
      "file_extension": ".py",
      "mimetype": "text/x-python",
      "name": "python",
      "nbconvert_exporter": "python",
      "pygments_lexer": "ipython3",
      "version": "3.6.13"
    },
    "colab": {
      "provenance": []
    }
  },
  "nbformat": 4,
  "nbformat_minor": 5
}